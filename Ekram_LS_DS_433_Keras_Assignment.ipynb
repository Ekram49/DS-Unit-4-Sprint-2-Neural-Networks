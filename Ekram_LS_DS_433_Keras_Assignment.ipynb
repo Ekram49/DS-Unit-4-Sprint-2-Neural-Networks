{
  "nbformat": 4,
  "nbformat_minor": 0,
  "metadata": {
    "colab": {
      "name": "Ekram LS_DS_433_Keras_Assignment.ipynb",
      "provenance": [],
      "include_colab_link": true
    },
    "kernelspec": {
      "display_name": "Python 3",
      "language": "python",
      "name": "python3"
    },
    "language_info": {
      "codemirror_mode": {
        "name": "ipython",
        "version": 3
      },
      "file_extension": ".py",
      "mimetype": "text/x-python",
      "name": "python",
      "nbconvert_exporter": "python",
      "pygments_lexer": "ipython3",
      "version": "3.7.3"
    }
  },
  "cells": [
    {
      "cell_type": "markdown",
      "metadata": {
        "id": "view-in-github",
        "colab_type": "text"
      },
      "source": [
        "<a href=\"https://colab.research.google.com/github/Ekram49/DS-Unit-4-Sprint-2-Neural-Networks/blob/master/Ekram_LS_DS_433_Keras_Assignment.ipynb\" target=\"_parent\"><img src=\"https://colab.research.google.com/assets/colab-badge.svg\" alt=\"Open In Colab\"/></a>"
      ]
    },
    {
      "cell_type": "markdown",
      "metadata": {
        "colab_type": "text",
        "id": "pBQsZEJmubLs"
      },
      "source": [
        "<img align=\"left\" src=\"https://lever-client-logos.s3.amazonaws.com/864372b1-534c-480e-acd5-9711f850815c-1524247202159.png\" width=200>\n",
        "<br></br>\n",
        "\n",
        "# Neural Network Framework (Keras)\n",
        "\n",
        "## *Data Science Unit 4 Sprint 2 Assignment 3*\n",
        "\n",
        "## Use the Keras Library to build a Multi-Layer Perceptron Model on the Boston Housing dataset\n",
        "\n",
        "- The Boston Housing dataset comes with the Keras library so use Keras to import it into your notebook. \n",
        "- Normalize the data (all features should have roughly the same scale)\n",
        "- Import the type of model and layers that you will need from Keras.\n",
        "- Instantiate a model object and use `model.add()` to add layers to your model\n",
        "- Since this is a regression model you will have a single output node in the final layer.\n",
        "- Use activation functions that are appropriate for this task\n",
        "- Compile your model\n",
        "- Fit your model and report its accuracy in terms of Mean Squared Error\n",
        "- Use the history object that is returned from model.fit to make graphs of the model's loss or train/validation accuracies by epoch. \n",
        "- Run this same data through a linear regression model. Which achieves higher accuracy?\n",
        "- Do a little bit of feature engineering and see how that affects your neural network model. (you will need to change your model to accept more inputs)\n",
        "- After feature engineering, which model sees a greater accuracy boost due to the new features?"
      ]
    },
    {
      "cell_type": "code",
      "metadata": {
        "colab_type": "code",
        "id": "8NLTAR87uYJ-",
        "colab": {}
      },
      "source": [
        "##### Your Code Here #####\n",
        "\n",
        "from tensorflow.keras.datasets import boston_housing\n",
        "\n",
        "(X_train, y_train), (X_test, y_test) = boston_housing.load_data()"
      ],
      "execution_count": 0,
      "outputs": []
    },
    {
      "cell_type": "code",
      "metadata": {
        "id": "trH3Oop8M9Rg",
        "colab_type": "code",
        "colab": {}
      },
      "source": [
        "# import statements\n",
        "import os\n",
        "import datetime\n",
        "import tensorflow as tf\n",
        "from tensorflow.keras import Sequential\n",
        "from tensorflow.keras.layers import Flatten,Dense\n",
        "from tensorflow.keras.callbacks import EarlyStopping\n",
        "from tensorflow.keras import regularizers\n",
        "from tensorflow.keras.constraints import MaxNorm\n",
        "from tensorflow.keras.layers import Dropout\n",
        "from sklearn.preprocessing import Normalizer"
      ],
      "execution_count": 0,
      "outputs": []
    },
    {
      "cell_type": "code",
      "metadata": {
        "id": "0Rts1z7JNoN-",
        "colab_type": "code",
        "colab": {
          "base_uri": "https://localhost:8080/",
          "height": 235
        },
        "outputId": "241ab574-dfe3-490d-8d55-791fde614967"
      },
      "source": [
        "X_train"
      ],
      "execution_count": 3,
      "outputs": [
        {
          "output_type": "execute_result",
          "data": {
            "text/plain": [
              "array([[1.23247e+00, 0.00000e+00, 8.14000e+00, ..., 2.10000e+01,\n",
              "        3.96900e+02, 1.87200e+01],\n",
              "       [2.17700e-02, 8.25000e+01, 2.03000e+00, ..., 1.47000e+01,\n",
              "        3.95380e+02, 3.11000e+00],\n",
              "       [4.89822e+00, 0.00000e+00, 1.81000e+01, ..., 2.02000e+01,\n",
              "        3.75520e+02, 3.26000e+00],\n",
              "       ...,\n",
              "       [3.46600e-02, 3.50000e+01, 6.06000e+00, ..., 1.69000e+01,\n",
              "        3.62250e+02, 7.83000e+00],\n",
              "       [2.14918e+00, 0.00000e+00, 1.95800e+01, ..., 1.47000e+01,\n",
              "        2.61950e+02, 1.57900e+01],\n",
              "       [1.43900e-02, 6.00000e+01, 2.93000e+00, ..., 1.56000e+01,\n",
              "        3.76700e+02, 4.38000e+00]])"
            ]
          },
          "metadata": {
            "tags": []
          },
          "execution_count": 3
        }
      ]
    },
    {
      "cell_type": "code",
      "metadata": {
        "id": "p0ecoBmyNuE8",
        "colab_type": "code",
        "colab": {
          "base_uri": "https://localhost:8080/",
          "height": 638
        },
        "outputId": "88f2177f-be14-40bf-91bf-4538e6bc86fc"
      },
      "source": [
        "y_train"
      ],
      "execution_count": 4,
      "outputs": [
        {
          "output_type": "execute_result",
          "data": {
            "text/plain": [
              "array([15.2, 42.3, 50. , 21.1, 17.7, 18.5, 11.3, 15.6, 15.6, 14.4, 12.1,\n",
              "       17.9, 23.1, 19.9, 15.7,  8.8, 50. , 22.5, 24.1, 27.5, 10.9, 30.8,\n",
              "       32.9, 24. , 18.5, 13.3, 22.9, 34.7, 16.6, 17.5, 22.3, 16.1, 14.9,\n",
              "       23.1, 34.9, 25. , 13.9, 13.1, 20.4, 20. , 15.2, 24.7, 22.2, 16.7,\n",
              "       12.7, 15.6, 18.4, 21. , 30.1, 15.1, 18.7,  9.6, 31.5, 24.8, 19.1,\n",
              "       22. , 14.5, 11. , 32. , 29.4, 20.3, 24.4, 14.6, 19.5, 14.1, 14.3,\n",
              "       15.6, 10.5,  6.3, 19.3, 19.3, 13.4, 36.4, 17.8, 13.5, 16.5,  8.3,\n",
              "       14.3, 16. , 13.4, 28.6, 43.5, 20.2, 22. , 23. , 20.7, 12.5, 48.5,\n",
              "       14.6, 13.4, 23.7, 50. , 21.7, 39.8, 38.7, 22.2, 34.9, 22.5, 31.1,\n",
              "       28.7, 46. , 41.7, 21. , 26.6, 15. , 24.4, 13.3, 21.2, 11.7, 21.7,\n",
              "       19.4, 50. , 22.8, 19.7, 24.7, 36.2, 14.2, 18.9, 18.3, 20.6, 24.6,\n",
              "       18.2,  8.7, 44. , 10.4, 13.2, 21.2, 37. , 30.7, 22.9, 20. , 19.3,\n",
              "       31.7, 32. , 23.1, 18.8, 10.9, 50. , 19.6,  5. , 14.4, 19.8, 13.8,\n",
              "       19.6, 23.9, 24.5, 25. , 19.9, 17.2, 24.6, 13.5, 26.6, 21.4, 11.9,\n",
              "       22.6, 19.6,  8.5, 23.7, 23.1, 22.4, 20.5, 23.6, 18.4, 35.2, 23.1,\n",
              "       27.9, 20.6, 23.7, 28. , 13.6, 27.1, 23.6, 20.6, 18.2, 21.7, 17.1,\n",
              "        8.4, 25.3, 13.8, 22.2, 18.4, 20.7, 31.6, 30.5, 20.3,  8.8, 19.2,\n",
              "       19.4, 23.1, 23. , 14.8, 48.8, 22.6, 33.4, 21.1, 13.6, 32.2, 13.1,\n",
              "       23.4, 18.9, 23.9, 11.8, 23.3, 22.8, 19.6, 16.7, 13.4, 22.2, 20.4,\n",
              "       21.8, 26.4, 14.9, 24.1, 23.8, 12.3, 29.1, 21. , 19.5, 23.3, 23.8,\n",
              "       17.8, 11.5, 21.7, 19.9, 25. , 33.4, 28.5, 21.4, 24.3, 27.5, 33.1,\n",
              "       16.2, 23.3, 48.3, 22.9, 22.8, 13.1, 12.7, 22.6, 15. , 15.3, 10.5,\n",
              "       24. , 18.5, 21.7, 19.5, 33.2, 23.2,  5. , 19.1, 12.7, 22.3, 10.2,\n",
              "       13.9, 16.3, 17. , 20.1, 29.9, 17.2, 37.3, 45.4, 17.8, 23.2, 29. ,\n",
              "       22. , 18. , 17.4, 34.6, 20.1, 25. , 15.6, 24.8, 28.2, 21.2, 21.4,\n",
              "       23.8, 31. , 26.2, 17.4, 37.9, 17.5, 20. ,  8.3, 23.9,  8.4, 13.8,\n",
              "        7.2, 11.7, 17.1, 21.6, 50. , 16.1, 20.4, 20.6, 21.4, 20.6, 36.5,\n",
              "        8.5, 24.8, 10.8, 21.9, 17.3, 18.9, 36.2, 14.9, 18.2, 33.3, 21.8,\n",
              "       19.7, 31.6, 24.8, 19.4, 22.8,  7.5, 44.8, 16.8, 18.7, 50. , 50. ,\n",
              "       19.5, 20.1, 50. , 17.2, 20.8, 19.3, 41.3, 20.4, 20.5, 13.8, 16.5,\n",
              "       23.9, 20.6, 31.5, 23.3, 16.8, 14. , 33.8, 36.1, 12.8, 18.3, 18.7,\n",
              "       19.1, 29. , 30.1, 50. , 50. , 22. , 11.9, 37.6, 50. , 22.7, 20.8,\n",
              "       23.5, 27.9, 50. , 19.3, 23.9, 22.6, 15.2, 21.7, 19.2, 43.8, 20.3,\n",
              "       33.2, 19.9, 22.5, 32.7, 22. , 17.1, 19. , 15. , 16.1, 25.1, 23.7,\n",
              "       28.7, 37.2, 22.6, 16.4, 25. , 29.8, 22.1, 17.4, 18.1, 30.3, 17.5,\n",
              "       24.7, 12.6, 26.5, 28.7, 13.3, 10.4, 24.4, 23. , 20. , 17.8,  7. ,\n",
              "       11.8, 24.4, 13.8, 19.4, 25.2, 19.4, 19.4, 29.1])"
            ]
          },
          "metadata": {
            "tags": []
          },
          "execution_count": 4
        }
      ]
    },
    {
      "cell_type": "code",
      "metadata": {
        "id": "UD52wRx8NyMb",
        "colab_type": "code",
        "colab": {}
      },
      "source": [
        "# Normalization\n",
        "X_train = Normalizer().fit_transform(X_train)\n",
        "X_test = Normalizer().fit_transform(X_test)\n"
      ],
      "execution_count": 0,
      "outputs": []
    },
    {
      "cell_type": "code",
      "metadata": {
        "id": "xTl0PRy8Sq9n",
        "colab_type": "code",
        "colab": {
          "base_uri": "https://localhost:8080/",
          "height": 50
        },
        "outputId": "9810b593-a48f-444d-efd8-694216fbb6fb"
      },
      "source": [
        "print(X_train.shape)\n",
        "print(X_test.shape)"
      ],
      "execution_count": 6,
      "outputs": [
        {
          "output_type": "stream",
          "text": [
            "(404, 13)\n",
            "(102, 13)\n"
          ],
          "name": "stdout"
        }
      ]
    },
    {
      "cell_type": "code",
      "metadata": {
        "id": "woFs48h9PvMy",
        "colab_type": "code",
        "colab": {
          "base_uri": "https://localhost:8080/",
          "height": 1000
        },
        "outputId": "9da289a6-cd51-4a94-ca42-f52ed64e3833"
      },
      "source": [
        "# Instantiate a model object and use model.add() to add layers to your model\n",
        "logdir = os.path.join(\"logs\", datetime.datetime.now().strftime(\"%Y%m%d-%H%M%S\"))\n",
        "tensorboard_callback = tf.keras.callbacks.TensorBoard(logdir, histogram_freq=1)\n",
        "\n",
        "stop = EarlyStopping(monitor='mean_squared_error', min_delta=0.01, patience=3)\n",
        "\n",
        "model = Sequential()\n",
        "model.add(Dense(100, input_shape=(13,), activation='relu')) #elu 10\n",
        "model.add(Dense(100, activation='relu')) \n",
        "model.add(Dense(1, activation='relu'))\n",
        "\n",
        "# Compile your model\n",
        "model.compile(loss='mean_absolute_error', optimizer='adam', metrics=['MeanSquaredError'])\n",
        "\n",
        "# Fit your model\n",
        "history = model.fit(x=X_train, \n",
        "        y=y_train, \n",
        "        epochs=100, \n",
        "        validation_data=(X_test, y_test), \n",
        "        callbacks=[tensorboard_callback])"
      ],
      "execution_count": 7,
      "outputs": [
        {
          "output_type": "stream",
          "text": [
            "Epoch 1/100\n",
            "13/13 [==============================] - 0s 16ms/step - loss: 22.0532 - mean_squared_error: 571.0098 - val_loss: 22.3437 - val_mean_squared_error: 582.1848\n",
            "Epoch 2/100\n",
            "13/13 [==============================] - 0s 5ms/step - loss: 21.2476 - mean_squared_error: 535.9342 - val_loss: 21.3213 - val_mean_squared_error: 537.2101\n",
            "Epoch 3/100\n",
            "13/13 [==============================] - 0s 4ms/step - loss: 19.9160 - mean_squared_error: 480.3916 - val_loss: 19.5148 - val_mean_squared_error: 462.9997\n",
            "Epoch 4/100\n",
            "13/13 [==============================] - 0s 4ms/step - loss: 17.5830 - mean_squared_error: 392.9492 - val_loss: 16.4584 - val_mean_squared_error: 351.6752\n",
            "Epoch 5/100\n",
            "13/13 [==============================] - 0s 5ms/step - loss: 13.8320 - mean_squared_error: 274.7973 - val_loss: 12.1051 - val_mean_squared_error: 214.5141\n",
            "Epoch 6/100\n",
            "13/13 [==============================] - 0s 5ms/step - loss: 8.9681 - mean_squared_error: 149.9306 - val_loss: 7.5109 - val_mean_squared_error: 103.5888\n",
            "Epoch 7/100\n",
            "13/13 [==============================] - 0s 5ms/step - loss: 6.2916 - mean_squared_error: 83.1871 - val_loss: 6.2902 - val_mean_squared_error: 77.3328\n",
            "Epoch 8/100\n",
            "13/13 [==============================] - 0s 5ms/step - loss: 6.2507 - mean_squared_error: 76.9159 - val_loss: 6.2153 - val_mean_squared_error: 77.8109\n",
            "Epoch 9/100\n",
            "13/13 [==============================] - 0s 5ms/step - loss: 6.0184 - mean_squared_error: 78.4926 - val_loss: 6.3734 - val_mean_squared_error: 81.6254\n",
            "Epoch 10/100\n",
            "13/13 [==============================] - 0s 4ms/step - loss: 5.9242 - mean_squared_error: 78.2612 - val_loss: 6.1892 - val_mean_squared_error: 77.6181\n",
            "Epoch 11/100\n",
            "13/13 [==============================] - 0s 5ms/step - loss: 5.8118 - mean_squared_error: 74.6270 - val_loss: 6.0782 - val_mean_squared_error: 74.8451\n",
            "Epoch 12/100\n",
            "13/13 [==============================] - 0s 4ms/step - loss: 5.7347 - mean_squared_error: 74.6110 - val_loss: 6.0692 - val_mean_squared_error: 74.4561\n",
            "Epoch 13/100\n",
            "13/13 [==============================] - 0s 5ms/step - loss: 5.6346 - mean_squared_error: 72.1673 - val_loss: 5.9816 - val_mean_squared_error: 72.3784\n",
            "Epoch 14/100\n",
            "13/13 [==============================] - 0s 5ms/step - loss: 5.5463 - mean_squared_error: 71.3967 - val_loss: 5.9799 - val_mean_squared_error: 72.1305\n",
            "Epoch 15/100\n",
            "13/13 [==============================] - 0s 5ms/step - loss: 5.4685 - mean_squared_error: 70.6929 - val_loss: 5.9174 - val_mean_squared_error: 70.5474\n",
            "Epoch 16/100\n",
            "13/13 [==============================] - 0s 5ms/step - loss: 5.4074 - mean_squared_error: 68.7170 - val_loss: 5.8498 - val_mean_squared_error: 68.5473\n",
            "Epoch 17/100\n",
            "13/13 [==============================] - 0s 4ms/step - loss: 5.3612 - mean_squared_error: 67.2135 - val_loss: 5.8416 - val_mean_squared_error: 68.0072\n",
            "Epoch 18/100\n",
            "13/13 [==============================] - 0s 5ms/step - loss: 5.3169 - mean_squared_error: 68.8943 - val_loss: 5.9036 - val_mean_squared_error: 69.6270\n",
            "Epoch 19/100\n",
            "13/13 [==============================] - 0s 4ms/step - loss: 5.2674 - mean_squared_error: 66.3386 - val_loss: 5.7696 - val_mean_squared_error: 65.1898\n",
            "Epoch 20/100\n",
            "13/13 [==============================] - 0s 5ms/step - loss: 5.2517 - mean_squared_error: 66.8947 - val_loss: 5.8714 - val_mean_squared_error: 68.5250\n",
            "Epoch 21/100\n",
            "13/13 [==============================] - 0s 5ms/step - loss: 5.2331 - mean_squared_error: 64.8260 - val_loss: 5.7448 - val_mean_squared_error: 64.2883\n",
            "Epoch 22/100\n",
            "13/13 [==============================] - 0s 5ms/step - loss: 5.1431 - mean_squared_error: 65.7793 - val_loss: 5.8904 - val_mean_squared_error: 69.1199\n",
            "Epoch 23/100\n",
            "13/13 [==============================] - 0s 4ms/step - loss: 5.1424 - mean_squared_error: 66.2711 - val_loss: 5.7714 - val_mean_squared_error: 65.2370\n",
            "Epoch 24/100\n",
            "13/13 [==============================] - 0s 5ms/step - loss: 5.1056 - mean_squared_error: 64.2304 - val_loss: 5.7513 - val_mean_squared_error: 64.6133\n",
            "Epoch 25/100\n",
            "13/13 [==============================] - 0s 5ms/step - loss: 5.0764 - mean_squared_error: 64.3415 - val_loss: 5.7780 - val_mean_squared_error: 65.6419\n",
            "Epoch 26/100\n",
            "13/13 [==============================] - 0s 5ms/step - loss: 5.0709 - mean_squared_error: 63.9428 - val_loss: 5.7127 - val_mean_squared_error: 63.5130\n",
            "Epoch 27/100\n",
            "13/13 [==============================] - 0s 4ms/step - loss: 5.0401 - mean_squared_error: 63.0937 - val_loss: 5.7586 - val_mean_squared_error: 65.1714\n",
            "Epoch 28/100\n",
            "13/13 [==============================] - 0s 4ms/step - loss: 5.0198 - mean_squared_error: 64.0532 - val_loss: 5.7373 - val_mean_squared_error: 64.5882\n",
            "Epoch 29/100\n",
            "13/13 [==============================] - 0s 5ms/step - loss: 5.0071 - mean_squared_error: 63.9005 - val_loss: 5.7013 - val_mean_squared_error: 63.5619\n",
            "Epoch 30/100\n",
            "13/13 [==============================] - 0s 4ms/step - loss: 5.0203 - mean_squared_error: 61.4573 - val_loss: 5.6982 - val_mean_squared_error: 63.6505\n",
            "Epoch 31/100\n",
            "13/13 [==============================] - 0s 5ms/step - loss: 4.9798 - mean_squared_error: 63.8220 - val_loss: 5.6815 - val_mean_squared_error: 63.2216\n",
            "Epoch 32/100\n",
            "13/13 [==============================] - 0s 5ms/step - loss: 4.9564 - mean_squared_error: 62.1500 - val_loss: 5.6691 - val_mean_squared_error: 62.9694\n",
            "Epoch 33/100\n",
            "13/13 [==============================] - 0s 5ms/step - loss: 4.9825 - mean_squared_error: 64.1459 - val_loss: 5.6573 - val_mean_squared_error: 62.6875\n",
            "Epoch 34/100\n",
            "13/13 [==============================] - 0s 5ms/step - loss: 4.9316 - mean_squared_error: 61.0437 - val_loss: 5.6346 - val_mean_squared_error: 61.9231\n",
            "Epoch 35/100\n",
            "13/13 [==============================] - 0s 5ms/step - loss: 4.9724 - mean_squared_error: 63.8808 - val_loss: 5.6385 - val_mean_squared_error: 62.1911\n",
            "Epoch 36/100\n",
            "13/13 [==============================] - 0s 5ms/step - loss: 4.9314 - mean_squared_error: 59.9578 - val_loss: 5.6432 - val_mean_squared_error: 62.4610\n",
            "Epoch 37/100\n",
            "13/13 [==============================] - 0s 4ms/step - loss: 4.9002 - mean_squared_error: 62.4119 - val_loss: 5.7022 - val_mean_squared_error: 64.4467\n",
            "Epoch 38/100\n",
            "13/13 [==============================] - 0s 5ms/step - loss: 4.8771 - mean_squared_error: 61.3438 - val_loss: 5.6290 - val_mean_squared_error: 62.1922\n",
            "Epoch 39/100\n",
            "13/13 [==============================] - 0s 4ms/step - loss: 4.8967 - mean_squared_error: 62.4768 - val_loss: 5.6336 - val_mean_squared_error: 62.3688\n",
            "Epoch 40/100\n",
            "13/13 [==============================] - 0s 4ms/step - loss: 4.8709 - mean_squared_error: 60.0811 - val_loss: 5.6525 - val_mean_squared_error: 63.0204\n",
            "Epoch 41/100\n",
            "13/13 [==============================] - 0s 5ms/step - loss: 4.8595 - mean_squared_error: 62.6707 - val_loss: 5.5899 - val_mean_squared_error: 61.1552\n",
            "Epoch 42/100\n",
            "13/13 [==============================] - 0s 4ms/step - loss: 4.8922 - mean_squared_error: 58.6397 - val_loss: 5.5687 - val_mean_squared_error: 60.4569\n",
            "Epoch 43/100\n",
            "13/13 [==============================] - 0s 5ms/step - loss: 4.8208 - mean_squared_error: 60.6098 - val_loss: 5.6832 - val_mean_squared_error: 64.2201\n",
            "Epoch 44/100\n",
            "13/13 [==============================] - 0s 5ms/step - loss: 4.8319 - mean_squared_error: 60.2446 - val_loss: 5.5987 - val_mean_squared_error: 61.5659\n",
            "Epoch 45/100\n",
            "13/13 [==============================] - 0s 4ms/step - loss: 4.8043 - mean_squared_error: 60.2569 - val_loss: 5.6505 - val_mean_squared_error: 63.2124\n",
            "Epoch 46/100\n",
            "13/13 [==============================] - 0s 5ms/step - loss: 4.8094 - mean_squared_error: 60.0831 - val_loss: 5.5527 - val_mean_squared_error: 60.3358\n",
            "Epoch 47/100\n",
            "13/13 [==============================] - 0s 5ms/step - loss: 4.7901 - mean_squared_error: 59.5872 - val_loss: 5.6392 - val_mean_squared_error: 62.9869\n",
            "Epoch 48/100\n",
            "13/13 [==============================] - 0s 5ms/step - loss: 4.7849 - mean_squared_error: 60.5675 - val_loss: 5.5282 - val_mean_squared_error: 59.7190\n",
            "Epoch 49/100\n",
            "13/13 [==============================] - 0s 4ms/step - loss: 4.7678 - mean_squared_error: 58.9961 - val_loss: 5.6019 - val_mean_squared_error: 61.9729\n",
            "Epoch 50/100\n",
            "13/13 [==============================] - 0s 4ms/step - loss: 4.7634 - mean_squared_error: 59.5827 - val_loss: 5.5957 - val_mean_squared_error: 61.8650\n",
            "Epoch 51/100\n",
            "13/13 [==============================] - 0s 5ms/step - loss: 4.7516 - mean_squared_error: 59.5264 - val_loss: 5.5419 - val_mean_squared_error: 60.4082\n",
            "Epoch 52/100\n",
            "13/13 [==============================] - 0s 5ms/step - loss: 4.7483 - mean_squared_error: 58.8722 - val_loss: 5.5577 - val_mean_squared_error: 60.8876\n",
            "Epoch 53/100\n",
            "13/13 [==============================] - 0s 5ms/step - loss: 4.7468 - mean_squared_error: 58.4416 - val_loss: 5.5833 - val_mean_squared_error: 61.7470\n",
            "Epoch 54/100\n",
            "13/13 [==============================] - 0s 4ms/step - loss: 4.7406 - mean_squared_error: 59.9779 - val_loss: 5.5676 - val_mean_squared_error: 61.3057\n",
            "Epoch 55/100\n",
            "13/13 [==============================] - 0s 5ms/step - loss: 4.7693 - mean_squared_error: 57.6850 - val_loss: 5.5478 - val_mean_squared_error: 60.8651\n",
            "Epoch 56/100\n",
            "13/13 [==============================] - 0s 5ms/step - loss: 4.7483 - mean_squared_error: 60.0313 - val_loss: 5.5046 - val_mean_squared_error: 59.7465\n",
            "Epoch 57/100\n",
            "13/13 [==============================] - 0s 5ms/step - loss: 4.7439 - mean_squared_error: 57.1310 - val_loss: 5.5489 - val_mean_squared_error: 61.0837\n",
            "Epoch 58/100\n",
            "13/13 [==============================] - 0s 4ms/step - loss: 4.6997 - mean_squared_error: 58.5727 - val_loss: 5.5149 - val_mean_squared_error: 60.1655\n",
            "Epoch 59/100\n",
            "13/13 [==============================] - 0s 5ms/step - loss: 4.6945 - mean_squared_error: 57.7369 - val_loss: 5.5344 - val_mean_squared_error: 60.7783\n",
            "Epoch 60/100\n",
            "13/13 [==============================] - 0s 5ms/step - loss: 4.7061 - mean_squared_error: 58.3594 - val_loss: 5.5051 - val_mean_squared_error: 60.0510\n",
            "Epoch 61/100\n",
            "13/13 [==============================] - 0s 5ms/step - loss: 4.6865 - mean_squared_error: 58.7025 - val_loss: 5.4771 - val_mean_squared_error: 59.3319\n",
            "Epoch 62/100\n",
            "13/13 [==============================] - 0s 5ms/step - loss: 4.6977 - mean_squared_error: 56.4739 - val_loss: 5.5143 - val_mean_squared_error: 60.4000\n",
            "Epoch 63/100\n",
            "13/13 [==============================] - 0s 4ms/step - loss: 4.6759 - mean_squared_error: 58.4902 - val_loss: 5.4898 - val_mean_squared_error: 59.8324\n",
            "Epoch 64/100\n",
            "13/13 [==============================] - 0s 4ms/step - loss: 4.6608 - mean_squared_error: 57.0030 - val_loss: 5.5067 - val_mean_squared_error: 60.2936\n",
            "Epoch 65/100\n",
            "13/13 [==============================] - 0s 4ms/step - loss: 4.6800 - mean_squared_error: 58.4469 - val_loss: 5.5231 - val_mean_squared_error: 60.7712\n",
            "Epoch 66/100\n",
            "13/13 [==============================] - 0s 4ms/step - loss: 4.6488 - mean_squared_error: 57.3404 - val_loss: 5.4118 - val_mean_squared_error: 57.6392\n",
            "Epoch 67/100\n",
            "13/13 [==============================] - 0s 4ms/step - loss: 4.6414 - mean_squared_error: 56.4397 - val_loss: 5.4920 - val_mean_squared_error: 60.1144\n",
            "Epoch 68/100\n",
            "13/13 [==============================] - 0s 4ms/step - loss: 4.6408 - mean_squared_error: 57.5587 - val_loss: 5.4655 - val_mean_squared_error: 59.4885\n",
            "Epoch 69/100\n",
            "13/13 [==============================] - 0s 5ms/step - loss: 4.6293 - mean_squared_error: 56.8086 - val_loss: 5.4446 - val_mean_squared_error: 58.9803\n",
            "Epoch 70/100\n",
            "13/13 [==============================] - 0s 5ms/step - loss: 4.6264 - mean_squared_error: 56.7286 - val_loss: 5.4103 - val_mean_squared_error: 58.1047\n",
            "Epoch 71/100\n",
            "13/13 [==============================] - 0s 5ms/step - loss: 4.6173 - mean_squared_error: 56.0464 - val_loss: 5.4940 - val_mean_squared_error: 60.3233\n",
            "Epoch 72/100\n",
            "13/13 [==============================] - 0s 6ms/step - loss: 4.6290 - mean_squared_error: 57.6360 - val_loss: 5.4099 - val_mean_squared_error: 58.2754\n",
            "Epoch 73/100\n",
            "13/13 [==============================] - 0s 5ms/step - loss: 4.6022 - mean_squared_error: 56.2195 - val_loss: 5.4078 - val_mean_squared_error: 58.2678\n",
            "Epoch 74/100\n",
            "13/13 [==============================] - 0s 5ms/step - loss: 4.6374 - mean_squared_error: 55.8045 - val_loss: 5.3784 - val_mean_squared_error: 57.4619\n",
            "Epoch 75/100\n",
            "13/13 [==============================] - 0s 5ms/step - loss: 4.6409 - mean_squared_error: 58.0721 - val_loss: 5.3946 - val_mean_squared_error: 58.0526\n",
            "Epoch 76/100\n",
            "13/13 [==============================] - 0s 5ms/step - loss: 4.6238 - mean_squared_error: 54.7123 - val_loss: 5.4744 - val_mean_squared_error: 60.0394\n",
            "Epoch 77/100\n",
            "13/13 [==============================] - 0s 5ms/step - loss: 4.6293 - mean_squared_error: 58.5615 - val_loss: 5.3858 - val_mean_squared_error: 57.9216\n",
            "Epoch 78/100\n",
            "13/13 [==============================] - 0s 4ms/step - loss: 4.5784 - mean_squared_error: 55.8216 - val_loss: 5.3876 - val_mean_squared_error: 58.0035\n",
            "Epoch 79/100\n",
            "13/13 [==============================] - 0s 6ms/step - loss: 4.5929 - mean_squared_error: 54.4201 - val_loss: 5.3796 - val_mean_squared_error: 57.8614\n",
            "Epoch 80/100\n",
            "13/13 [==============================] - 0s 5ms/step - loss: 4.5777 - mean_squared_error: 57.0105 - val_loss: 5.3730 - val_mean_squared_error: 57.7604\n",
            "Epoch 81/100\n",
            "13/13 [==============================] - 0s 5ms/step - loss: 4.5499 - mean_squared_error: 54.5808 - val_loss: 5.3435 - val_mean_squared_error: 57.1270\n",
            "Epoch 82/100\n",
            "13/13 [==============================] - 0s 5ms/step - loss: 4.5496 - mean_squared_error: 55.9425 - val_loss: 5.3461 - val_mean_squared_error: 57.2425\n",
            "Epoch 83/100\n",
            "13/13 [==============================] - 0s 5ms/step - loss: 4.5566 - mean_squared_error: 54.5577 - val_loss: 5.4211 - val_mean_squared_error: 59.1486\n",
            "Epoch 84/100\n",
            "13/13 [==============================] - 0s 5ms/step - loss: 4.5259 - mean_squared_error: 55.8271 - val_loss: 5.3291 - val_mean_squared_error: 56.9694\n",
            "Epoch 85/100\n",
            "13/13 [==============================] - 0s 4ms/step - loss: 4.5952 - mean_squared_error: 53.2450 - val_loss: 5.3931 - val_mean_squared_error: 58.5688\n",
            "Epoch 86/100\n",
            "13/13 [==============================] - 0s 6ms/step - loss: 4.5776 - mean_squared_error: 57.2374 - val_loss: 5.2909 - val_mean_squared_error: 55.9490\n",
            "Epoch 87/100\n",
            "13/13 [==============================] - 0s 5ms/step - loss: 4.5231 - mean_squared_error: 54.0147 - val_loss: 5.2764 - val_mean_squared_error: 55.5843\n",
            "Epoch 88/100\n",
            "13/13 [==============================] - 0s 5ms/step - loss: 4.4980 - mean_squared_error: 54.3956 - val_loss: 5.3432 - val_mean_squared_error: 57.4692\n",
            "Epoch 89/100\n",
            "13/13 [==============================] - 0s 4ms/step - loss: 4.4875 - mean_squared_error: 54.2689 - val_loss: 5.3511 - val_mean_squared_error: 57.7402\n",
            "Epoch 90/100\n",
            "13/13 [==============================] - 0s 5ms/step - loss: 4.4848 - mean_squared_error: 54.5834 - val_loss: 5.3254 - val_mean_squared_error: 57.1792\n",
            "Epoch 91/100\n",
            "13/13 [==============================] - 0s 5ms/step - loss: 4.4797 - mean_squared_error: 54.0297 - val_loss: 5.2610 - val_mean_squared_error: 55.5180\n",
            "Epoch 92/100\n",
            "13/13 [==============================] - 0s 5ms/step - loss: 4.4700 - mean_squared_error: 54.0187 - val_loss: 5.2983 - val_mean_squared_error: 56.6393\n",
            "Epoch 93/100\n",
            "13/13 [==============================] - 0s 4ms/step - loss: 4.4654 - mean_squared_error: 54.4044 - val_loss: 5.2628 - val_mean_squared_error: 55.7762\n",
            "Epoch 94/100\n",
            "13/13 [==============================] - 0s 4ms/step - loss: 4.4689 - mean_squared_error: 53.2658 - val_loss: 5.2708 - val_mean_squared_error: 56.0778\n",
            "Epoch 95/100\n",
            "13/13 [==============================] - 0s 4ms/step - loss: 4.4542 - mean_squared_error: 53.5840 - val_loss: 5.3026 - val_mean_squared_error: 56.8976\n",
            "Epoch 96/100\n",
            "13/13 [==============================] - 0s 5ms/step - loss: 4.4427 - mean_squared_error: 52.9456 - val_loss: 5.2435 - val_mean_squared_error: 55.5122\n",
            "Epoch 97/100\n",
            "13/13 [==============================] - 0s 4ms/step - loss: 4.4270 - mean_squared_error: 53.1948 - val_loss: 5.2443 - val_mean_squared_error: 55.6019\n",
            "Epoch 98/100\n",
            "13/13 [==============================] - 0s 4ms/step - loss: 4.4196 - mean_squared_error: 52.9443 - val_loss: 5.2296 - val_mean_squared_error: 55.2793\n",
            "Epoch 99/100\n",
            "13/13 [==============================] - 0s 4ms/step - loss: 4.4216 - mean_squared_error: 52.6353 - val_loss: 5.2458 - val_mean_squared_error: 55.7842\n",
            "Epoch 100/100\n",
            "13/13 [==============================] - 0s 5ms/step - loss: 4.4220 - mean_squared_error: 52.7805 - val_loss: 5.2421 - val_mean_squared_error: 55.7679\n"
          ],
          "name": "stdout"
        }
      ]
    },
    {
      "cell_type": "markdown",
      "metadata": {
        "colab_type": "text",
        "id": "SfcFnOONyuNm"
      },
      "source": [
        "## Use the Keras Library to build an image recognition network using the Fashion-MNIST dataset (also comes with keras)\n",
        "\n",
        "- Load and preprocess the image data similar to how we preprocessed the MNIST data in class.\n",
        "- Make sure to one-hot encode your category labels\n",
        "- The number of nodes in your output layer should equal the number of classes you want to predict for Fashion-MNIST.\n",
        "- Try different hyperparameters. What is the highest accuracy that you are able to achieve.\n",
        "- Use the history object that is returned from model.fit to make graphs of the model's loss or train/validation accuracies by epoch. \n",
        "- Remember that neural networks fall prey to randomness so you may need to run your model multiple times (or use Cross Validation) in order to tell if a change to a hyperparameter is truly producing better results."
      ]
    },
    {
      "cell_type": "code",
      "metadata": {
        "colab_type": "code",
        "id": "szi6-IpuzaH1",
        "colab": {}
      },
      "source": [
        "##### Your Code Here #####\n",
        "from tensorflow.keras.datasets import fashion_mnist"
      ],
      "execution_count": 0,
      "outputs": []
    },
    {
      "cell_type": "code",
      "metadata": {
        "id": "FjaZKIy_WfGD",
        "colab_type": "code",
        "colab": {}
      },
      "source": [
        ""
      ],
      "execution_count": 0,
      "outputs": []
    },
    {
      "cell_type": "markdown",
      "metadata": {
        "colab_type": "text",
        "id": "zv_3xNMjzdLI"
      },
      "source": [
        "## Stretch Goals:\n",
        "\n",
        "- Use Hyperparameter Tuning to make the accuracy of your models as high as possible. (error as low as possible)\n",
        "- Use Cross Validation techniques to get more consistent results with your model.\n",
        "- Use GridSearchCV to try different combinations of hyperparameters. \n",
        "- Start looking into other types of Keras layers for CNNs and RNNs maybe try and build a CNN model for fashion-MNIST to see how the results compare."
      ]
    }
  ]
}