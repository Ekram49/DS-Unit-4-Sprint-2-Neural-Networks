{
  "nbformat": 4,
  "nbformat_minor": 0,
  "metadata": {
    "colab": {
      "name": "Ekram LS_DS_433_Keras_Assignment.ipynb",
      "provenance": [],
      "include_colab_link": true
    },
    "kernelspec": {
      "display_name": "Python 3",
      "language": "python",
      "name": "python3"
    },
    "language_info": {
      "codemirror_mode": {
        "name": "ipython",
        "version": 3
      },
      "file_extension": ".py",
      "mimetype": "text/x-python",
      "name": "python",
      "nbconvert_exporter": "python",
      "pygments_lexer": "ipython3",
      "version": "3.7.3"
    }
  },
  "cells": [
    {
      "cell_type": "markdown",
      "metadata": {
        "id": "view-in-github",
        "colab_type": "text"
      },
      "source": [
        "<a href=\"https://colab.research.google.com/github/Ekram49/DS-Unit-4-Sprint-2-Neural-Networks/blob/master/Ekram_LS_DS_433_Keras_Assignment.ipynb\" target=\"_parent\"><img src=\"https://colab.research.google.com/assets/colab-badge.svg\" alt=\"Open In Colab\"/></a>"
      ]
    },
    {
      "cell_type": "markdown",
      "metadata": {
        "colab_type": "text",
        "id": "pBQsZEJmubLs"
      },
      "source": [
        "<img align=\"left\" src=\"https://lever-client-logos.s3.amazonaws.com/864372b1-534c-480e-acd5-9711f850815c-1524247202159.png\" width=200>\n",
        "<br></br>\n",
        "\n",
        "# Neural Network Framework (Keras)\n",
        "\n",
        "## *Data Science Unit 4 Sprint 2 Assignment 3*\n",
        "\n",
        "## Use the Keras Library to build a Multi-Layer Perceptron Model on the Boston Housing dataset\n",
        "\n",
        "- The Boston Housing dataset comes with the Keras library so use Keras to import it into your notebook. \n",
        "- Normalize the data (all features should have roughly the same scale)\n",
        "- Import the type of model and layers that you will need from Keras.\n",
        "- Instantiate a model object and use `model.add()` to add layers to your model\n",
        "- Since this is a regression model you will have a single output node in the final layer.\n",
        "- Use activation functions that are appropriate for this task\n",
        "- Compile your model\n",
        "- Fit your model and report its accuracy in terms of Mean Squared Error\n",
        "- Use the history object that is returned from model.fit to make graphs of the model's loss or train/validation accuracies by epoch. \n",
        "- Run this same data through a linear regression model. Which achieves higher accuracy?\n",
        "- Do a little bit of feature engineering and see how that affects your neural network model. (you will need to change your model to accept more inputs)\n",
        "- After feature engineering, which model sees a greater accuracy boost due to the new features?"
      ]
    },
    {
      "cell_type": "code",
      "metadata": {
        "colab_type": "code",
        "id": "8NLTAR87uYJ-",
        "colab": {}
      },
      "source": [
        "##### Your Code Here #####\n",
        "\n",
        "from tensorflow.keras.datasets import boston_housing\n",
        "(x_train, y_train), (x_test, y_test) = boston_housing.load_data()"
      ],
      "execution_count": 0,
      "outputs": []
    },
    {
      "cell_type": "code",
      "metadata": {
        "id": "trH3Oop8M9Rg",
        "colab_type": "code",
        "colab": {}
      },
      "source": [
        "# import statements\n",
        "import os\n",
        "import datetime\n",
        "import tensorflow as tf\n",
        "from tensorflow.keras import Sequential\n",
        "from tensorflow.keras.layers import Flatten,Dense\n",
        "from tensorflow.keras.callbacks import EarlyStopping\n",
        "from sklearn.preprocessing import StandardScaler"
      ],
      "execution_count": 0,
      "outputs": []
    },
    {
      "cell_type": "code",
      "metadata": {
        "id": "UD52wRx8NyMb",
        "colab_type": "code",
        "colab": {}
      },
      "source": [
        "scaler = StandardScaler()\n",
        "\n",
        "x_train = scaler.fit_transform(x_train)\n",
        "x_test = scaler.transform(x_test)\n"
      ],
      "execution_count": 0,
      "outputs": []
    },
    {
      "cell_type": "code",
      "metadata": {
        "id": "woFs48h9PvMy",
        "colab_type": "code",
        "colab": {
          "base_uri": "https://localhost:8080/",
          "height": 1000
        },
        "outputId": "121f3162-22d1-4ee7-fd4a-c173546e7b4c"
      },
      "source": [
        "inputs = x_train.shape[1]\n",
        "epochs = 75\n",
        "batch_size = 10\n",
        "\n",
        "\n",
        "# Create Model\n",
        "model = Sequential()\n",
        "model.add(Dense(64, activation='relu', input_shape=(inputs,)))\n",
        "model.add(Dense(64, activation='relu'))\n",
        "model.add(Dense(1))\n",
        "\n",
        "# Compile Model\n",
        "model.compile(optimizer='adam', loss='mse', metrics=['mae'])\n",
        "\n",
        "# Fit Model\n",
        "results = model.fit(x_train, y_train, \n",
        "          validation_data=(x_test,y_test), \n",
        "          epochs=epochs, \n",
        "          batch_size=batch_size\n",
        "         )"
      ],
      "execution_count": 4,
      "outputs": [
        {
          "output_type": "stream",
          "text": [
            "Epoch 1/75\n",
            "41/41 [==============================] - 0s 5ms/step - loss: 536.4283 - mae: 21.1431 - val_loss: 481.2335 - val_mae: 19.8471\n",
            "Epoch 2/75\n",
            "41/41 [==============================] - 0s 2ms/step - loss: 335.1765 - mae: 15.7769 - val_loss: 205.5677 - val_mae: 12.2889\n",
            "Epoch 3/75\n",
            "41/41 [==============================] - 0s 2ms/step - loss: 107.4552 - mae: 8.0585 - val_loss: 69.4543 - val_mae: 6.4518\n",
            "Epoch 4/75\n",
            "41/41 [==============================] - 0s 2ms/step - loss: 47.1853 - mae: 4.9117 - val_loss: 37.9270 - val_mae: 4.8110\n",
            "Epoch 5/75\n",
            "41/41 [==============================] - 0s 2ms/step - loss: 30.6886 - mae: 3.8700 - val_loss: 27.9048 - val_mae: 4.1740\n",
            "Epoch 6/75\n",
            "41/41 [==============================] - 0s 2ms/step - loss: 24.8108 - mae: 3.4719 - val_loss: 24.9962 - val_mae: 3.9185\n",
            "Epoch 7/75\n",
            "41/41 [==============================] - 0s 2ms/step - loss: 21.4561 - mae: 3.2236 - val_loss: 22.5940 - val_mae: 3.7109\n",
            "Epoch 8/75\n",
            "41/41 [==============================] - 0s 2ms/step - loss: 18.9947 - mae: 3.0434 - val_loss: 21.0440 - val_mae: 3.5313\n",
            "Epoch 9/75\n",
            "41/41 [==============================] - 0s 2ms/step - loss: 17.1996 - mae: 2.9053 - val_loss: 20.4198 - val_mae: 3.4523\n",
            "Epoch 10/75\n",
            "41/41 [==============================] - 0s 2ms/step - loss: 15.9495 - mae: 2.7875 - val_loss: 20.5745 - val_mae: 3.4482\n",
            "Epoch 11/75\n",
            "41/41 [==============================] - 0s 2ms/step - loss: 14.9147 - mae: 2.7627 - val_loss: 20.4988 - val_mae: 3.3396\n",
            "Epoch 12/75\n",
            "41/41 [==============================] - 0s 2ms/step - loss: 13.7769 - mae: 2.6194 - val_loss: 20.5351 - val_mae: 3.3319\n",
            "Epoch 13/75\n",
            "41/41 [==============================] - 0s 2ms/step - loss: 13.1025 - mae: 2.5714 - val_loss: 20.9702 - val_mae: 3.3288\n",
            "Epoch 14/75\n",
            "41/41 [==============================] - 0s 2ms/step - loss: 12.6486 - mae: 2.5605 - val_loss: 20.5928 - val_mae: 3.2610\n",
            "Epoch 15/75\n",
            "41/41 [==============================] - 0s 2ms/step - loss: 11.9233 - mae: 2.4601 - val_loss: 20.1733 - val_mae: 3.1742\n",
            "Epoch 16/75\n",
            "41/41 [==============================] - 0s 2ms/step - loss: 11.4125 - mae: 2.4393 - val_loss: 20.6223 - val_mae: 3.1688\n",
            "Epoch 17/75\n",
            "41/41 [==============================] - 0s 2ms/step - loss: 11.0145 - mae: 2.3877 - val_loss: 20.5879 - val_mae: 3.1228\n",
            "Epoch 18/75\n",
            "41/41 [==============================] - 0s 2ms/step - loss: 10.6634 - mae: 2.3591 - val_loss: 21.2986 - val_mae: 3.1300\n",
            "Epoch 19/75\n",
            "41/41 [==============================] - 0s 2ms/step - loss: 10.1444 - mae: 2.3071 - val_loss: 21.0372 - val_mae: 3.1025\n",
            "Epoch 20/75\n",
            "41/41 [==============================] - 0s 2ms/step - loss: 10.1256 - mae: 2.2723 - val_loss: 20.9141 - val_mae: 3.0902\n",
            "Epoch 21/75\n",
            "41/41 [==============================] - 0s 2ms/step - loss: 9.8771 - mae: 2.2670 - val_loss: 21.1691 - val_mae: 3.0584\n",
            "Epoch 22/75\n",
            "41/41 [==============================] - 0s 2ms/step - loss: 9.6147 - mae: 2.2094 - val_loss: 21.6772 - val_mae: 3.1128\n",
            "Epoch 23/75\n",
            "41/41 [==============================] - 0s 2ms/step - loss: 9.3495 - mae: 2.2152 - val_loss: 21.8979 - val_mae: 3.0592\n",
            "Epoch 24/75\n",
            "41/41 [==============================] - 0s 2ms/step - loss: 9.2776 - mae: 2.1977 - val_loss: 22.0609 - val_mae: 3.0684\n",
            "Epoch 25/75\n",
            "41/41 [==============================] - 0s 2ms/step - loss: 8.9673 - mae: 2.1318 - val_loss: 21.4435 - val_mae: 3.0089\n",
            "Epoch 26/75\n",
            "41/41 [==============================] - 0s 2ms/step - loss: 8.9442 - mae: 2.1556 - val_loss: 21.7018 - val_mae: 3.0020\n",
            "Epoch 27/75\n",
            "41/41 [==============================] - 0s 2ms/step - loss: 8.9963 - mae: 2.1692 - val_loss: 22.0075 - val_mae: 3.0218\n",
            "Epoch 28/75\n",
            "41/41 [==============================] - 0s 2ms/step - loss: 8.7223 - mae: 2.1176 - val_loss: 21.7659 - val_mae: 3.0110\n",
            "Epoch 29/75\n",
            "41/41 [==============================] - 0s 2ms/step - loss: 8.6453 - mae: 2.1014 - val_loss: 21.2387 - val_mae: 2.9669\n",
            "Epoch 30/75\n",
            "41/41 [==============================] - 0s 2ms/step - loss: 8.7002 - mae: 2.1134 - val_loss: 21.4786 - val_mae: 2.9614\n",
            "Epoch 31/75\n",
            "41/41 [==============================] - 0s 2ms/step - loss: 8.3550 - mae: 2.0904 - val_loss: 21.8412 - val_mae: 3.0108\n",
            "Epoch 32/75\n",
            "41/41 [==============================] - 0s 2ms/step - loss: 8.3372 - mae: 2.0631 - val_loss: 21.8109 - val_mae: 2.9945\n",
            "Epoch 33/75\n",
            "41/41 [==============================] - 0s 2ms/step - loss: 8.3082 - mae: 2.0573 - val_loss: 22.7346 - val_mae: 3.0777\n",
            "Epoch 34/75\n",
            "41/41 [==============================] - 0s 2ms/step - loss: 8.3411 - mae: 2.0748 - val_loss: 20.8155 - val_mae: 2.9088\n",
            "Epoch 35/75\n",
            "41/41 [==============================] - 0s 2ms/step - loss: 8.1970 - mae: 2.0364 - val_loss: 20.3680 - val_mae: 2.8813\n",
            "Epoch 36/75\n",
            "41/41 [==============================] - 0s 2ms/step - loss: 7.8983 - mae: 2.0118 - val_loss: 20.4412 - val_mae: 2.8895\n",
            "Epoch 37/75\n",
            "41/41 [==============================] - 0s 2ms/step - loss: 7.8942 - mae: 2.0128 - val_loss: 23.1202 - val_mae: 3.0883\n",
            "Epoch 38/75\n",
            "41/41 [==============================] - 0s 2ms/step - loss: 7.7843 - mae: 2.0126 - val_loss: 20.8408 - val_mae: 2.8910\n",
            "Epoch 39/75\n",
            "41/41 [==============================] - 0s 2ms/step - loss: 7.5820 - mae: 1.9652 - val_loss: 20.8747 - val_mae: 2.9342\n",
            "Epoch 40/75\n",
            "41/41 [==============================] - 0s 2ms/step - loss: 7.5155 - mae: 1.9778 - val_loss: 19.2959 - val_mae: 2.8443\n",
            "Epoch 41/75\n",
            "41/41 [==============================] - 0s 2ms/step - loss: 7.5685 - mae: 1.9764 - val_loss: 19.7024 - val_mae: 2.8087\n",
            "Epoch 42/75\n",
            "41/41 [==============================] - 0s 2ms/step - loss: 7.5010 - mae: 1.9661 - val_loss: 20.1366 - val_mae: 2.8412\n",
            "Epoch 43/75\n",
            "41/41 [==============================] - 0s 2ms/step - loss: 7.2929 - mae: 1.9294 - val_loss: 20.1200 - val_mae: 2.8448\n",
            "Epoch 44/75\n",
            "41/41 [==============================] - 0s 2ms/step - loss: 7.0740 - mae: 1.9078 - val_loss: 19.9838 - val_mae: 2.9149\n",
            "Epoch 45/75\n",
            "41/41 [==============================] - 0s 2ms/step - loss: 7.1246 - mae: 1.9065 - val_loss: 19.4618 - val_mae: 2.8250\n",
            "Epoch 46/75\n",
            "41/41 [==============================] - 0s 2ms/step - loss: 7.3263 - mae: 1.9673 - val_loss: 18.8788 - val_mae: 2.7714\n",
            "Epoch 47/75\n",
            "41/41 [==============================] - 0s 3ms/step - loss: 7.0509 - mae: 1.9101 - val_loss: 18.9506 - val_mae: 2.7440\n",
            "Epoch 48/75\n",
            "41/41 [==============================] - 0s 2ms/step - loss: 6.8288 - mae: 1.8559 - val_loss: 21.0071 - val_mae: 2.9339\n",
            "Epoch 49/75\n",
            "41/41 [==============================] - 0s 2ms/step - loss: 7.0002 - mae: 1.9052 - val_loss: 20.7807 - val_mae: 2.9370\n",
            "Epoch 50/75\n",
            "41/41 [==============================] - 0s 2ms/step - loss: 6.9501 - mae: 1.8858 - val_loss: 18.5927 - val_mae: 2.7396\n",
            "Epoch 51/75\n",
            "41/41 [==============================] - 0s 2ms/step - loss: 6.8807 - mae: 1.9008 - val_loss: 20.2523 - val_mae: 2.9000\n",
            "Epoch 52/75\n",
            "41/41 [==============================] - 0s 2ms/step - loss: 6.6601 - mae: 1.8278 - val_loss: 18.8610 - val_mae: 2.7262\n",
            "Epoch 53/75\n",
            "41/41 [==============================] - 0s 3ms/step - loss: 6.6202 - mae: 1.8196 - val_loss: 20.7778 - val_mae: 2.9407\n",
            "Epoch 54/75\n",
            "41/41 [==============================] - 0s 2ms/step - loss: 6.8256 - mae: 1.8473 - val_loss: 20.2841 - val_mae: 2.8653\n",
            "Epoch 55/75\n",
            "41/41 [==============================] - 0s 2ms/step - loss: 6.6037 - mae: 1.8441 - val_loss: 19.4700 - val_mae: 2.7951\n",
            "Epoch 56/75\n",
            "41/41 [==============================] - 0s 2ms/step - loss: 6.6157 - mae: 1.8182 - val_loss: 18.5908 - val_mae: 2.7231\n",
            "Epoch 57/75\n",
            "41/41 [==============================] - 0s 2ms/step - loss: 6.2001 - mae: 1.7901 - val_loss: 17.8391 - val_mae: 2.6343\n",
            "Epoch 58/75\n",
            "41/41 [==============================] - 0s 2ms/step - loss: 6.3184 - mae: 1.8062 - val_loss: 19.5274 - val_mae: 2.9428\n",
            "Epoch 59/75\n",
            "41/41 [==============================] - 0s 2ms/step - loss: 6.3410 - mae: 1.7994 - val_loss: 18.0609 - val_mae: 2.7854\n",
            "Epoch 60/75\n",
            "41/41 [==============================] - 0s 2ms/step - loss: 6.5639 - mae: 1.8732 - val_loss: 18.1688 - val_mae: 2.6691\n",
            "Epoch 61/75\n",
            "41/41 [==============================] - 0s 2ms/step - loss: 6.0946 - mae: 1.7813 - val_loss: 18.0375 - val_mae: 2.7231\n",
            "Epoch 62/75\n",
            "41/41 [==============================] - 0s 3ms/step - loss: 6.1208 - mae: 1.7734 - val_loss: 19.0041 - val_mae: 2.9397\n",
            "Epoch 63/75\n",
            "41/41 [==============================] - 0s 2ms/step - loss: 5.9207 - mae: 1.7489 - val_loss: 18.1585 - val_mae: 2.6720\n",
            "Epoch 64/75\n",
            "41/41 [==============================] - 0s 2ms/step - loss: 5.8018 - mae: 1.7455 - val_loss: 16.5222 - val_mae: 2.5731\n",
            "Epoch 65/75\n",
            "41/41 [==============================] - 0s 2ms/step - loss: 6.0352 - mae: 1.7668 - val_loss: 19.3171 - val_mae: 2.8853\n",
            "Epoch 66/75\n",
            "41/41 [==============================] - 0s 3ms/step - loss: 5.8462 - mae: 1.7202 - val_loss: 17.5663 - val_mae: 2.6675\n",
            "Epoch 67/75\n",
            "41/41 [==============================] - 0s 2ms/step - loss: 5.7637 - mae: 1.7522 - val_loss: 16.7206 - val_mae: 2.6022\n",
            "Epoch 68/75\n",
            "41/41 [==============================] - 0s 2ms/step - loss: 5.8956 - mae: 1.7451 - val_loss: 17.5157 - val_mae: 2.6827\n",
            "Epoch 69/75\n",
            "41/41 [==============================] - 0s 2ms/step - loss: 5.6436 - mae: 1.7163 - val_loss: 16.5293 - val_mae: 2.5908\n",
            "Epoch 70/75\n",
            "41/41 [==============================] - 0s 2ms/step - loss: 5.6984 - mae: 1.7357 - val_loss: 17.8321 - val_mae: 2.7842\n",
            "Epoch 71/75\n",
            "41/41 [==============================] - 0s 3ms/step - loss: 6.0033 - mae: 1.7344 - val_loss: 16.0596 - val_mae: 2.6140\n",
            "Epoch 72/75\n",
            "41/41 [==============================] - 0s 2ms/step - loss: 5.5141 - mae: 1.6877 - val_loss: 17.4984 - val_mae: 2.6742\n",
            "Epoch 73/75\n",
            "41/41 [==============================] - 0s 2ms/step - loss: 5.5782 - mae: 1.6870 - val_loss: 17.1719 - val_mae: 2.7050\n",
            "Epoch 74/75\n",
            "41/41 [==============================] - 0s 2ms/step - loss: 5.5763 - mae: 1.7114 - val_loss: 15.7952 - val_mae: 2.5756\n",
            "Epoch 75/75\n",
            "41/41 [==============================] - 0s 2ms/step - loss: 5.4798 - mae: 1.7048 - val_loss: 16.3432 - val_mae: 2.5803\n"
          ],
          "name": "stdout"
        }
      ]
    },
    {
      "cell_type": "code",
      "metadata": {
        "id": "UT2h7Lp3eK_n",
        "colab_type": "code",
        "colab": {
          "base_uri": "https://localhost:8080/",
          "height": 295
        },
        "outputId": "6b0ecc7a-2fc9-4551-93cc-686707804d0c"
      },
      "source": [
        "import matplotlib.pyplot as plt\n",
        "\n",
        "plt.plot(results.history['loss'])\n",
        "plt.plot(results.history['val_loss'])\n",
        "\n",
        "plt.title('Model Loss ')\n",
        "plt.ylabel('Loss')\n",
        "plt.xlabel('Epoch')\n",
        "plt.legend(['train', 'test'], loc='upper right')\n",
        "plt.show();"
      ],
      "execution_count": 6,
      "outputs": [
        {
          "output_type": "display_data",
          "data": {
            "image/png": "[encoded data removed]",
            "text/plain": [
              "<Figure size 432x288 with 1 Axes>"
            ]
          },
          "metadata": {
            "tags": [],
            "needs_background": "light"
          }
        }
      ]
    },
    {
      "cell_type": "code",
      "metadata": {
        "id": "EuTWtYP0fFY-",
        "colab_type": "code",
        "colab": {
          "base_uri": "https://localhost:8080/",
          "height": 34
        },
        "outputId": "1e51bc40-d026-4199-f682-43f829007250"
      },
      "source": [
        "# Linear regression model.\n",
        "from sklearn.linear_model import LinearRegression\n",
        "from sklearn.metrics import mean_squared_error\n",
        "model = LinearRegression()\n",
        "model.fit(x_train, y_train)\n"
      ],
      "execution_count": 8,
      "outputs": [
        {
          "output_type": "execute_result",
          "data": {
            "text/plain": [
              "LinearRegression(copy_X=True, fit_intercept=True, n_jobs=None, normalize=False)"
            ]
          },
          "metadata": {
            "tags": []
          },
          "execution_count": 8
        }
      ]
    },
    {
      "cell_type": "code",
      "metadata": {
        "id": "Rj0UEnq6f-yr",
        "colab_type": "code",
        "colab": {}
      },
      "source": [
        "predict = model.predict(x_test)"
      ],
      "execution_count": 0,
      "outputs": []
    },
    {
      "cell_type": "code",
      "metadata": {
        "id": "3y8UA6a9gCbf",
        "colab_type": "code",
        "colab": {
          "base_uri": "https://localhost:8080/",
          "height": 34
        },
        "outputId": "5a236f38-a473-43e7-ed3f-277f12ac6c1f"
      },
      "source": [
        "mean_squared_error(y_test, predict)"
      ],
      "execution_count": 11,
      "outputs": [
        {
          "output_type": "execute_result",
          "data": {
            "text/plain": [
              "23.195599256423"
            ]
          },
          "metadata": {
            "tags": []
          },
          "execution_count": 11
        }
      ]
    },
    {
      "cell_type": "markdown",
      "metadata": {
        "colab_type": "text",
        "id": "SfcFnOONyuNm"
      },
      "source": [
        "## Use the Keras Library to build an image recognition network using the Fashion-MNIST dataset (also comes with keras)\n",
        "\n",
        "- Load and preprocess the image data similar to how we preprocessed the MNIST data in class.\n",
        "- Make sure to one-hot encode your category labels\n",
        "- The number of nodes in your output layer should equal the number of classes you want to predict for Fashion-MNIST.\n",
        "- Try different hyperparameters. What is the highest accuracy that you are able to achieve.\n",
        "- Use the history object that is returned from model.fit to make graphs of the model's loss or train/validation accuracies by epoch. \n",
        "- Remember that neural networks fall prey to randomness so you may need to run your model multiple times (or use Cross Validation) in order to tell if a change to a hyperparameter is truly producing better results."
      ]
    },
    {
      "cell_type": "code",
      "metadata": {
        "colab_type": "code",
        "id": "szi6-IpuzaH1",
        "colab": {}
      },
      "source": [
        "##### Your Code Here #####\n",
        "from tensorflow.keras.datasets import fashion_mnist"
      ],
      "execution_count": 0,
      "outputs": []
    },
    {
      "cell_type": "code",
      "metadata": {
        "id": "FjaZKIy_WfGD",
        "colab_type": "code",
        "colab": {}
      },
      "source": [
        ""
      ],
      "execution_count": 0,
      "outputs": []
    },
    {
      "cell_type": "markdown",
      "metadata": {
        "colab_type": "text",
        "id": "zv_3xNMjzdLI"
      },
      "source": [
        "## Stretch Goals:\n",
        "\n",
        "- Use Hyperparameter Tuning to make the accuracy of your models as high as possible. (error as low as possible)\n",
        "- Use Cross Validation techniques to get more consistent results with your model.\n",
        "- Use GridSearchCV to try different combinations of hyperparameters. \n",
        "- Start looking into other types of Keras layers for CNNs and RNNs maybe try and build a CNN model for fashion-MNIST to see how the results compare."
      ]
    }
  ]
}