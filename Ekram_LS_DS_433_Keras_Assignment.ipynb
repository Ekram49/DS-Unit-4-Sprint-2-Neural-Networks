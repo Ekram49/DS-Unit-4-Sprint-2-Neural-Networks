{
  "nbformat": 4,
  "nbformat_minor": 0,
  "metadata": {
    "colab": {
      "name": "Ekram LS_DS_433_Keras_Assignment.ipynb",
      "provenance": [],
      "include_colab_link": true
    },
    "kernelspec": {
      "display_name": "Python 3",
      "language": "python",
      "name": "python3"
    },
    "language_info": {
      "codemirror_mode": {
        "name": "ipython",
        "version": 3
      },
      "file_extension": ".py",
      "mimetype": "text/x-python",
      "name": "python",
      "nbconvert_exporter": "python",
      "pygments_lexer": "ipython3",
      "version": "3.7.3"
    }
  },
  "cells": [
    {
      "cell_type": "markdown",
      "metadata": {
        "id": "view-in-github",
        "colab_type": "text"
      },
      "source": [
        "<a href=\"https://colab.research.google.com/github/Ekram49/DS-Unit-4-Sprint-2-Neural-Networks/blob/master/Ekram_LS_DS_433_Keras_Assignment.ipynb\" target=\"_parent\"><img src=\"https://colab.research.google.com/assets/colab-badge.svg\" alt=\"Open In Colab\"/></a>"
      ]
    },
    {
      "cell_type": "markdown",
      "metadata": {
        "colab_type": "text",
        "id": "pBQsZEJmubLs"
      },
      "source": [
        "<img align=\"left\" src=\"https://lever-client-logos.s3.amazonaws.com/864372b1-534c-480e-acd5-9711f850815c-1524247202159.png\" width=200>\n",
        "<br></br>\n",
        "\n",
        "# Neural Network Framework (Keras)\n",
        "\n",
        "## *Data Science Unit 4 Sprint 2 Assignment 3*\n",
        "\n",
        "## Use the Keras Library to build a Multi-Layer Perceptron Model on the Boston Housing dataset\n",
        "\n",
        "- The Boston Housing dataset comes with the Keras library so use Keras to import it into your notebook. \n",
        "- Normalize the data (all features should have roughly the same scale)\n",
        "- Import the type of model and layers that you will need from Keras.\n",
        "- Instantiate a model object and use `model.add()` to add layers to your model\n",
        "- Since this is a regression model you will have a single output node in the final layer.\n",
        "- Use activation functions that are appropriate for this task\n",
        "- Compile your model\n",
        "- Fit your model and report its accuracy in terms of Mean Squared Error\n",
        "- Use the history object that is returned from model.fit to make graphs of the model's loss or train/validation accuracies by epoch. \n",
        "- Run this same data through a linear regression model. Which achieves higher accuracy?\n",
        "- Do a little bit of feature engineering and see how that affects your neural network model. (you will need to change your model to accept more inputs)\n",
        "- After feature engineering, which model sees a greater accuracy boost due to the new features?"
      ]
    },
    {
      "cell_type": "code",
      "metadata": {
        "colab_type": "code",
        "id": "8NLTAR87uYJ-",
        "colab": {}
      },
      "source": [
        "##### Your Code Here #####\n",
        "\n",
        "from tensorflow.keras.datasets import boston_housing\n",
        "\n",
        "(X_train, y_train), (X_test, y_test) = boston_housing.load_data()"
      ],
      "execution_count": 0,
      "outputs": []
    },
    {
      "cell_type": "code",
      "metadata": {
        "id": "trH3Oop8M9Rg",
        "colab_type": "code",
        "colab": {}
      },
      "source": [
        "# import statements\n",
        "import os\n",
        "import datetime\n",
        "import tensorflow as tf\n",
        "from tensorflow.keras import Sequential\n",
        "from tensorflow.keras.layers import Flatten,Dense\n",
        "from tensorflow.keras.callbacks import EarlyStopping\n",
        "from tensorflow.keras import regularizers\n",
        "from tensorflow.keras.constraints import MaxNorm\n",
        "from tensorflow.keras.layers import Dropout\n",
        "from sklearn.preprocessing import Normalizer"
      ],
      "execution_count": 0,
      "outputs": []
    },
    {
      "cell_type": "code",
      "metadata": {
        "id": "0Rts1z7JNoN-",
        "colab_type": "code",
        "colab": {
          "base_uri": "https://localhost:8080/",
          "height": 235
        },
        "outputId": "735eef20-76ee-468d-a77e-0cb85df60882"
      },
      "source": [
        "X_train"
      ],
      "execution_count": 3,
      "outputs": [
        {
          "output_type": "execute_result",
          "data": {
            "text/plain": [
              "array([[1.23247e+00, 0.00000e+00, 8.14000e+00, ..., 2.10000e+01,\n",
              "        3.96900e+02, 1.87200e+01],\n",
              "       [2.17700e-02, 8.25000e+01, 2.03000e+00, ..., 1.47000e+01,\n",
              "        3.95380e+02, 3.11000e+00],\n",
              "       [4.89822e+00, 0.00000e+00, 1.81000e+01, ..., 2.02000e+01,\n",
              "        3.75520e+02, 3.26000e+00],\n",
              "       ...,\n",
              "       [3.46600e-02, 3.50000e+01, 6.06000e+00, ..., 1.69000e+01,\n",
              "        3.62250e+02, 7.83000e+00],\n",
              "       [2.14918e+00, 0.00000e+00, 1.95800e+01, ..., 1.47000e+01,\n",
              "        2.61950e+02, 1.57900e+01],\n",
              "       [1.43900e-02, 6.00000e+01, 2.93000e+00, ..., 1.56000e+01,\n",
              "        3.76700e+02, 4.38000e+00]])"
            ]
          },
          "metadata": {
            "tags": []
          },
          "execution_count": 3
        }
      ]
    },
    {
      "cell_type": "code",
      "metadata": {
        "id": "p0ecoBmyNuE8",
        "colab_type": "code",
        "colab": {
          "base_uri": "https://localhost:8080/",
          "height": 638
        },
        "outputId": "b4de23b0-7388-46ed-fa69-d675a2a9d6ed"
      },
      "source": [
        "y_train"
      ],
      "execution_count": 4,
      "outputs": [
        {
          "output_type": "execute_result",
          "data": {
            "text/plain": [
              "array([15.2, 42.3, 50. , 21.1, 17.7, 18.5, 11.3, 15.6, 15.6, 14.4, 12.1,\n",
              "       17.9, 23.1, 19.9, 15.7,  8.8, 50. , 22.5, 24.1, 27.5, 10.9, 30.8,\n",
              "       32.9, 24. , 18.5, 13.3, 22.9, 34.7, 16.6, 17.5, 22.3, 16.1, 14.9,\n",
              "       23.1, 34.9, 25. , 13.9, 13.1, 20.4, 20. , 15.2, 24.7, 22.2, 16.7,\n",
              "       12.7, 15.6, 18.4, 21. , 30.1, 15.1, 18.7,  9.6, 31.5, 24.8, 19.1,\n",
              "       22. , 14.5, 11. , 32. , 29.4, 20.3, 24.4, 14.6, 19.5, 14.1, 14.3,\n",
              "       15.6, 10.5,  6.3, 19.3, 19.3, 13.4, 36.4, 17.8, 13.5, 16.5,  8.3,\n",
              "       14.3, 16. , 13.4, 28.6, 43.5, 20.2, 22. , 23. , 20.7, 12.5, 48.5,\n",
              "       14.6, 13.4, 23.7, 50. , 21.7, 39.8, 38.7, 22.2, 34.9, 22.5, 31.1,\n",
              "       28.7, 46. , 41.7, 21. , 26.6, 15. , 24.4, 13.3, 21.2, 11.7, 21.7,\n",
              "       19.4, 50. , 22.8, 19.7, 24.7, 36.2, 14.2, 18.9, 18.3, 20.6, 24.6,\n",
              "       18.2,  8.7, 44. , 10.4, 13.2, 21.2, 37. , 30.7, 22.9, 20. , 19.3,\n",
              "       31.7, 32. , 23.1, 18.8, 10.9, 50. , 19.6,  5. , 14.4, 19.8, 13.8,\n",
              "       19.6, 23.9, 24.5, 25. , 19.9, 17.2, 24.6, 13.5, 26.6, 21.4, 11.9,\n",
              "       22.6, 19.6,  8.5, 23.7, 23.1, 22.4, 20.5, 23.6, 18.4, 35.2, 23.1,\n",
              "       27.9, 20.6, 23.7, 28. , 13.6, 27.1, 23.6, 20.6, 18.2, 21.7, 17.1,\n",
              "        8.4, 25.3, 13.8, 22.2, 18.4, 20.7, 31.6, 30.5, 20.3,  8.8, 19.2,\n",
              "       19.4, 23.1, 23. , 14.8, 48.8, 22.6, 33.4, 21.1, 13.6, 32.2, 13.1,\n",
              "       23.4, 18.9, 23.9, 11.8, 23.3, 22.8, 19.6, 16.7, 13.4, 22.2, 20.4,\n",
              "       21.8, 26.4, 14.9, 24.1, 23.8, 12.3, 29.1, 21. , 19.5, 23.3, 23.8,\n",
              "       17.8, 11.5, 21.7, 19.9, 25. , 33.4, 28.5, 21.4, 24.3, 27.5, 33.1,\n",
              "       16.2, 23.3, 48.3, 22.9, 22.8, 13.1, 12.7, 22.6, 15. , 15.3, 10.5,\n",
              "       24. , 18.5, 21.7, 19.5, 33.2, 23.2,  5. , 19.1, 12.7, 22.3, 10.2,\n",
              "       13.9, 16.3, 17. , 20.1, 29.9, 17.2, 37.3, 45.4, 17.8, 23.2, 29. ,\n",
              "       22. , 18. , 17.4, 34.6, 20.1, 25. , 15.6, 24.8, 28.2, 21.2, 21.4,\n",
              "       23.8, 31. , 26.2, 17.4, 37.9, 17.5, 20. ,  8.3, 23.9,  8.4, 13.8,\n",
              "        7.2, 11.7, 17.1, 21.6, 50. , 16.1, 20.4, 20.6, 21.4, 20.6, 36.5,\n",
              "        8.5, 24.8, 10.8, 21.9, 17.3, 18.9, 36.2, 14.9, 18.2, 33.3, 21.8,\n",
              "       19.7, 31.6, 24.8, 19.4, 22.8,  7.5, 44.8, 16.8, 18.7, 50. , 50. ,\n",
              "       19.5, 20.1, 50. , 17.2, 20.8, 19.3, 41.3, 20.4, 20.5, 13.8, 16.5,\n",
              "       23.9, 20.6, 31.5, 23.3, 16.8, 14. , 33.8, 36.1, 12.8, 18.3, 18.7,\n",
              "       19.1, 29. , 30.1, 50. , 50. , 22. , 11.9, 37.6, 50. , 22.7, 20.8,\n",
              "       23.5, 27.9, 50. , 19.3, 23.9, 22.6, 15.2, 21.7, 19.2, 43.8, 20.3,\n",
              "       33.2, 19.9, 22.5, 32.7, 22. , 17.1, 19. , 15. , 16.1, 25.1, 23.7,\n",
              "       28.7, 37.2, 22.6, 16.4, 25. , 29.8, 22.1, 17.4, 18.1, 30.3, 17.5,\n",
              "       24.7, 12.6, 26.5, 28.7, 13.3, 10.4, 24.4, 23. , 20. , 17.8,  7. ,\n",
              "       11.8, 24.4, 13.8, 19.4, 25.2, 19.4, 19.4, 29.1])"
            ]
          },
          "metadata": {
            "tags": []
          },
          "execution_count": 4
        }
      ]
    },
    {
      "cell_type": "code",
      "metadata": {
        "id": "UD52wRx8NyMb",
        "colab_type": "code",
        "colab": {}
      },
      "source": [
        "# Normalization\n",
        "X_train = Normalizer().fit_transform(X_train)\n",
        "X_test = Normalizer().fit_transform(X_test)\n"
      ],
      "execution_count": 0,
      "outputs": []
    },
    {
      "cell_type": "code",
      "metadata": {
        "id": "xTl0PRy8Sq9n",
        "colab_type": "code",
        "colab": {
          "base_uri": "https://localhost:8080/",
          "height": 50
        },
        "outputId": "687ea7bf-c56d-4a51-a5bd-1743d637219d"
      },
      "source": [
        "print(X_train.shape)\n",
        "print(X_test.shape)"
      ],
      "execution_count": 6,
      "outputs": [
        {
          "output_type": "stream",
          "text": [
            "(404, 13)\n",
            "(102, 13)\n"
          ],
          "name": "stdout"
        }
      ]
    },
    {
      "cell_type": "code",
      "metadata": {
        "id": "woFs48h9PvMy",
        "colab_type": "code",
        "colab": {
          "base_uri": "https://localhost:8080/",
          "height": 1000
        },
        "outputId": "b9879c13-16d2-481f-ade7-12813d97b2f4"
      },
      "source": [
        "# Instantiate a model object and use model.add() to add layers to your model\n",
        "logdir = os.path.join(\"logs\", datetime.datetime.now().strftime(\"%Y%m%d-%H%M%S\"))\n",
        "tensorboard_callback = tf.keras.callbacks.TensorBoard(logdir, histogram_freq=1)\n",
        "\n",
        "stop = EarlyStopping(monitor='mean_squared_error', min_delta=0.01, patience=3)\n",
        "\n",
        "model = Sequential()\n",
        "model.add(Dense(100, input_shape=(13,), activation='relu')) #elu 10\n",
        "model.add(Dense(100, activation='relu')) \n",
        "model.add(Dense(1, activation='relu'))\n",
        "\n",
        "# Compile your model\n",
        "model.compile(loss='mean_absolute_error', optimizer='adam', metrics=['MeanSquaredError'])\n",
        "\n",
        "# Fit your model\n",
        "result = model.fit(x=X_train, \n",
        "        y=y_train, \n",
        "        epochs=100, \n",
        "        validation_data=(X_test, y_test), \n",
        "        callbacks=[tensorboard_callback])"
      ],
      "execution_count": 7,
      "outputs": [
        {
          "output_type": "stream",
          "text": [
            "Epoch 1/100\n",
            "13/13 [==============================] - 0s 15ms/step - loss: 21.9592 - mean_squared_error: 566.4377 - val_loss: 22.1787 - val_mean_squared_error: 574.6246\n",
            "Epoch 2/100\n",
            "13/13 [==============================] - 0s 5ms/step - loss: 21.0395 - mean_squared_error: 526.7584 - val_loss: 21.0659 - val_mean_squared_error: 526.1984\n",
            "Epoch 3/100\n",
            "13/13 [==============================] - 0s 4ms/step - loss: 19.6234 - mean_squared_error: 468.2711 - val_loss: 19.1687 - val_mean_squared_error: 449.3349\n",
            "Epoch 4/100\n",
            "13/13 [==============================] - 0s 5ms/step - loss: 17.1850 - mean_squared_error: 378.9712 - val_loss: 15.9525 - val_mean_squared_error: 334.6120\n",
            "Epoch 5/100\n",
            "13/13 [==============================] - 0s 4ms/step - loss: 13.2153 - mean_squared_error: 255.4653 - val_loss: 11.4041 - val_mean_squared_error: 195.3722\n",
            "Epoch 6/100\n",
            "13/13 [==============================] - 0s 4ms/step - loss: 8.3535 - mean_squared_error: 135.2259 - val_loss: 7.0142 - val_mean_squared_error: 94.4571\n",
            "Epoch 7/100\n",
            "13/13 [==============================] - 0s 5ms/step - loss: 6.2797 - mean_squared_error: 82.1511 - val_loss: 6.2906 - val_mean_squared_error: 77.1373\n",
            "Epoch 8/100\n",
            "13/13 [==============================] - 0s 4ms/step - loss: 6.1801 - mean_squared_error: 77.3865 - val_loss: 6.2393 - val_mean_squared_error: 79.4578\n",
            "Epoch 9/100\n",
            "13/13 [==============================] - 0s 5ms/step - loss: 5.9864 - mean_squared_error: 78.4913 - val_loss: 6.3200 - val_mean_squared_error: 80.8413\n",
            "Epoch 10/100\n",
            "13/13 [==============================] - 0s 4ms/step - loss: 5.9085 - mean_squared_error: 77.0664 - val_loss: 6.1438 - val_mean_squared_error: 76.8830\n",
            "Epoch 11/100\n",
            "13/13 [==============================] - 0s 4ms/step - loss: 5.8001 - mean_squared_error: 74.3784 - val_loss: 6.1125 - val_mean_squared_error: 75.9941\n",
            "Epoch 12/100\n",
            "13/13 [==============================] - 0s 4ms/step - loss: 5.7095 - mean_squared_error: 74.2352 - val_loss: 6.1164 - val_mean_squared_error: 75.9034\n",
            "Epoch 13/100\n",
            "13/13 [==============================] - 0s 5ms/step - loss: 5.6251 - mean_squared_error: 72.8555 - val_loss: 5.9752 - val_mean_squared_error: 72.6255\n",
            "Epoch 14/100\n",
            "13/13 [==============================] - 0s 4ms/step - loss: 5.5511 - mean_squared_error: 70.3302 - val_loss: 5.9293 - val_mean_squared_error: 71.4623\n",
            "Epoch 15/100\n",
            "13/13 [==============================] - 0s 5ms/step - loss: 5.4819 - mean_squared_error: 70.7420 - val_loss: 5.9768 - val_mean_squared_error: 72.3791\n",
            "Epoch 16/100\n",
            "13/13 [==============================] - 0s 5ms/step - loss: 5.4317 - mean_squared_error: 69.1979 - val_loss: 5.8658 - val_mean_squared_error: 69.5182\n",
            "Epoch 17/100\n",
            "13/13 [==============================] - 0s 5ms/step - loss: 5.3861 - mean_squared_error: 69.2032 - val_loss: 5.8922 - val_mean_squared_error: 69.9483\n",
            "Epoch 18/100\n",
            "13/13 [==============================] - 0s 5ms/step - loss: 5.3324 - mean_squared_error: 67.7096 - val_loss: 5.8387 - val_mean_squared_error: 68.1532\n",
            "Epoch 19/100\n",
            "13/13 [==============================] - 0s 5ms/step - loss: 5.2799 - mean_squared_error: 67.2229 - val_loss: 5.8852 - val_mean_squared_error: 69.4192\n",
            "Epoch 20/100\n",
            "13/13 [==============================] - 0s 4ms/step - loss: 5.2628 - mean_squared_error: 66.6081 - val_loss: 5.8301 - val_mean_squared_error: 67.5926\n",
            "Epoch 21/100\n",
            "13/13 [==============================] - 0s 4ms/step - loss: 5.2109 - mean_squared_error: 66.5600 - val_loss: 5.8760 - val_mean_squared_error: 69.0057\n",
            "Epoch 22/100\n",
            "13/13 [==============================] - 0s 4ms/step - loss: 5.1882 - mean_squared_error: 66.9664 - val_loss: 5.8063 - val_mean_squared_error: 66.7430\n",
            "Epoch 23/100\n",
            "13/13 [==============================] - 0s 4ms/step - loss: 5.1700 - mean_squared_error: 66.1944 - val_loss: 5.7989 - val_mean_squared_error: 66.5199\n",
            "Epoch 24/100\n",
            "13/13 [==============================] - 0s 5ms/step - loss: 5.1285 - mean_squared_error: 64.8834 - val_loss: 5.7580 - val_mean_squared_error: 65.3067\n",
            "Epoch 25/100\n",
            "13/13 [==============================] - 0s 5ms/step - loss: 5.1097 - mean_squared_error: 63.5090 - val_loss: 5.7564 - val_mean_squared_error: 65.2822\n",
            "Epoch 26/100\n",
            "13/13 [==============================] - 0s 4ms/step - loss: 5.0998 - mean_squared_error: 65.1266 - val_loss: 5.7905 - val_mean_squared_error: 66.4372\n",
            "Epoch 27/100\n",
            "13/13 [==============================] - 0s 5ms/step - loss: 5.0877 - mean_squared_error: 62.8739 - val_loss: 5.7312 - val_mean_squared_error: 64.6427\n",
            "Epoch 28/100\n",
            "13/13 [==============================] - 0s 4ms/step - loss: 5.0802 - mean_squared_error: 65.5432 - val_loss: 5.7899 - val_mean_squared_error: 66.5176\n",
            "Epoch 29/100\n",
            "13/13 [==============================] - 0s 4ms/step - loss: 5.0583 - mean_squared_error: 62.0201 - val_loss: 5.6631 - val_mean_squared_error: 62.7242\n",
            "Epoch 30/100\n",
            "13/13 [==============================] - 0s 4ms/step - loss: 5.0302 - mean_squared_error: 64.2836 - val_loss: 5.7953 - val_mean_squared_error: 66.8092\n",
            "Epoch 31/100\n",
            "13/13 [==============================] - 0s 4ms/step - loss: 4.9971 - mean_squared_error: 63.4313 - val_loss: 5.6797 - val_mean_squared_error: 63.4339\n",
            "Epoch 32/100\n",
            "13/13 [==============================] - 0s 5ms/step - loss: 4.9783 - mean_squared_error: 62.2001 - val_loss: 5.6887 - val_mean_squared_error: 63.7783\n",
            "Epoch 33/100\n",
            "13/13 [==============================] - 0s 5ms/step - loss: 4.9617 - mean_squared_error: 62.8313 - val_loss: 5.7538 - val_mean_squared_error: 65.7751\n",
            "Epoch 34/100\n",
            "13/13 [==============================] - 0s 4ms/step - loss: 4.9505 - mean_squared_error: 63.6649 - val_loss: 5.6833 - val_mean_squared_error: 63.5928\n",
            "Epoch 35/100\n",
            "13/13 [==============================] - 0s 5ms/step - loss: 4.9625 - mean_squared_error: 60.9997 - val_loss: 5.6772 - val_mean_squared_error: 63.4216\n",
            "Epoch 36/100\n",
            "13/13 [==============================] - 0s 5ms/step - loss: 4.9246 - mean_squared_error: 62.6391 - val_loss: 5.6827 - val_mean_squared_error: 63.6131\n",
            "Epoch 37/100\n",
            "13/13 [==============================] - 0s 5ms/step - loss: 4.9149 - mean_squared_error: 61.3976 - val_loss: 5.6890 - val_mean_squared_error: 63.8379\n",
            "Epoch 38/100\n",
            "13/13 [==============================] - 0s 5ms/step - loss: 4.9036 - mean_squared_error: 62.1127 - val_loss: 5.7096 - val_mean_squared_error: 64.5453\n",
            "Epoch 39/100\n",
            "13/13 [==============================] - 0s 4ms/step - loss: 4.9006 - mean_squared_error: 61.2013 - val_loss: 5.6409 - val_mean_squared_error: 62.4378\n",
            "Epoch 40/100\n",
            "13/13 [==============================] - 0s 5ms/step - loss: 4.8870 - mean_squared_error: 61.2606 - val_loss: 5.6951 - val_mean_squared_error: 64.1825\n",
            "Epoch 41/100\n",
            "13/13 [==============================] - 0s 5ms/step - loss: 4.8716 - mean_squared_error: 62.5346 - val_loss: 5.6135 - val_mean_squared_error: 61.7727\n",
            "Epoch 42/100\n",
            "13/13 [==============================] - 0s 4ms/step - loss: 4.8872 - mean_squared_error: 59.4628 - val_loss: 5.6728 - val_mean_squared_error: 63.5701\n",
            "Epoch 43/100\n",
            "13/13 [==============================] - 0s 4ms/step - loss: 4.8568 - mean_squared_error: 61.4905 - val_loss: 5.6443 - val_mean_squared_error: 62.7395\n",
            "Epoch 44/100\n",
            "13/13 [==============================] - 0s 5ms/step - loss: 4.8449 - mean_squared_error: 60.6703 - val_loss: 5.6682 - val_mean_squared_error: 63.5045\n",
            "Epoch 45/100\n",
            "13/13 [==============================] - 0s 4ms/step - loss: 4.8359 - mean_squared_error: 60.4481 - val_loss: 5.6086 - val_mean_squared_error: 61.7993\n",
            "Epoch 46/100\n",
            "13/13 [==============================] - 0s 5ms/step - loss: 4.8115 - mean_squared_error: 60.6299 - val_loss: 5.6486 - val_mean_squared_error: 63.0725\n",
            "Epoch 47/100\n",
            "13/13 [==============================] - 0s 4ms/step - loss: 4.8131 - mean_squared_error: 60.2761 - val_loss: 5.5979 - val_mean_squared_error: 61.6200\n",
            "Epoch 48/100\n",
            "13/13 [==============================] - 0s 5ms/step - loss: 4.8026 - mean_squared_error: 60.4781 - val_loss: 5.6281 - val_mean_squared_error: 62.5672\n",
            "Epoch 49/100\n",
            "13/13 [==============================] - 0s 4ms/step - loss: 4.7855 - mean_squared_error: 59.9142 - val_loss: 5.5690 - val_mean_squared_error: 60.9506\n",
            "Epoch 50/100\n",
            "13/13 [==============================] - 0s 4ms/step - loss: 4.7925 - mean_squared_error: 59.6268 - val_loss: 5.5533 - val_mean_squared_error: 60.5903\n",
            "Epoch 51/100\n",
            "13/13 [==============================] - 0s 4ms/step - loss: 4.7751 - mean_squared_error: 58.8953 - val_loss: 5.6055 - val_mean_squared_error: 62.0612\n",
            "Epoch 52/100\n",
            "13/13 [==============================] - 0s 5ms/step - loss: 4.7945 - mean_squared_error: 60.6905 - val_loss: 5.5488 - val_mean_squared_error: 60.5967\n",
            "Epoch 53/100\n",
            "13/13 [==============================] - 0s 5ms/step - loss: 4.7685 - mean_squared_error: 59.1055 - val_loss: 5.5677 - val_mean_squared_error: 61.1736\n",
            "Epoch 54/100\n",
            "13/13 [==============================] - 0s 4ms/step - loss: 4.7511 - mean_squared_error: 58.6275 - val_loss: 5.5611 - val_mean_squared_error: 61.0689\n",
            "Epoch 55/100\n",
            "13/13 [==============================] - 0s 5ms/step - loss: 4.7569 - mean_squared_error: 58.6282 - val_loss: 5.6384 - val_mean_squared_error: 63.2615\n",
            "Epoch 56/100\n",
            "13/13 [==============================] - 0s 4ms/step - loss: 4.7533 - mean_squared_error: 59.8048 - val_loss: 5.5317 - val_mean_squared_error: 60.4586\n",
            "Epoch 57/100\n",
            "13/13 [==============================] - 0s 5ms/step - loss: 4.7381 - mean_squared_error: 57.9354 - val_loss: 5.5476 - val_mean_squared_error: 60.9524\n",
            "Epoch 58/100\n",
            "13/13 [==============================] - 0s 4ms/step - loss: 4.7382 - mean_squared_error: 59.9473 - val_loss: 5.5969 - val_mean_squared_error: 62.3119\n",
            "Epoch 59/100\n",
            "13/13 [==============================] - 0s 5ms/step - loss: 4.7596 - mean_squared_error: 57.4685 - val_loss: 5.5122 - val_mean_squared_error: 60.1275\n",
            "Epoch 60/100\n",
            "13/13 [==============================] - 0s 4ms/step - loss: 4.7742 - mean_squared_error: 60.6955 - val_loss: 5.5145 - val_mean_squared_error: 60.2875\n",
            "Epoch 61/100\n",
            "13/13 [==============================] - 0s 4ms/step - loss: 4.7651 - mean_squared_error: 56.2265 - val_loss: 5.5224 - val_mean_squared_error: 60.5134\n",
            "Epoch 62/100\n",
            "13/13 [==============================] - 0s 4ms/step - loss: 4.7040 - mean_squared_error: 59.0947 - val_loss: 5.5481 - val_mean_squared_error: 61.1642\n",
            "Epoch 63/100\n",
            "13/13 [==============================] - 0s 6ms/step - loss: 4.7065 - mean_squared_error: 57.0348 - val_loss: 5.4804 - val_mean_squared_error: 59.5007\n",
            "Epoch 64/100\n",
            "13/13 [==============================] - 0s 4ms/step - loss: 4.7280 - mean_squared_error: 59.3036 - val_loss: 5.5136 - val_mean_squared_error: 60.4183\n",
            "Epoch 65/100\n",
            "13/13 [==============================] - 0s 5ms/step - loss: 4.6831 - mean_squared_error: 57.1192 - val_loss: 5.4979 - val_mean_squared_error: 60.0884\n",
            "Epoch 66/100\n",
            "13/13 [==============================] - 0s 4ms/step - loss: 4.6863 - mean_squared_error: 58.1673 - val_loss: 5.5288 - val_mean_squared_error: 60.8749\n",
            "Epoch 67/100\n",
            "13/13 [==============================] - 0s 5ms/step - loss: 4.6691 - mean_squared_error: 57.5729 - val_loss: 5.4498 - val_mean_squared_error: 58.9158\n",
            "Epoch 68/100\n",
            "13/13 [==============================] - 0s 4ms/step - loss: 4.6632 - mean_squared_error: 57.5053 - val_loss: 5.5116 - val_mean_squared_error: 60.5252\n",
            "Epoch 69/100\n",
            "13/13 [==============================] - 0s 4ms/step - loss: 4.6633 - mean_squared_error: 57.6629 - val_loss: 5.4901 - val_mean_squared_error: 60.0235\n",
            "Epoch 70/100\n",
            "13/13 [==============================] - 0s 4ms/step - loss: 4.6566 - mean_squared_error: 57.6196 - val_loss: 5.4396 - val_mean_squared_error: 58.8182\n",
            "Epoch 71/100\n",
            "13/13 [==============================] - 0s 5ms/step - loss: 4.6526 - mean_squared_error: 56.2990 - val_loss: 5.4809 - val_mean_squared_error: 59.8996\n",
            "Epoch 72/100\n",
            "13/13 [==============================] - 0s 5ms/step - loss: 4.6405 - mean_squared_error: 57.4338 - val_loss: 5.4688 - val_mean_squared_error: 59.6288\n",
            "Epoch 73/100\n",
            "13/13 [==============================] - 0s 4ms/step - loss: 4.6376 - mean_squared_error: 56.5291 - val_loss: 5.4588 - val_mean_squared_error: 59.4187\n",
            "Epoch 74/100\n",
            "13/13 [==============================] - 0s 5ms/step - loss: 4.6543 - mean_squared_error: 56.2141 - val_loss: 5.5094 - val_mean_squared_error: 60.7085\n",
            "Epoch 75/100\n",
            "13/13 [==============================] - 0s 4ms/step - loss: 4.6435 - mean_squared_error: 58.2252 - val_loss: 5.4096 - val_mean_squared_error: 58.2988\n",
            "Epoch 76/100\n",
            "13/13 [==============================] - 0s 5ms/step - loss: 4.6225 - mean_squared_error: 55.1494 - val_loss: 5.4530 - val_mean_squared_error: 59.3812\n",
            "Epoch 77/100\n",
            "13/13 [==============================] - 0s 5ms/step - loss: 4.6721 - mean_squared_error: 59.1129 - val_loss: 5.4250 - val_mean_squared_error: 58.7489\n",
            "Epoch 78/100\n",
            "13/13 [==============================] - 0s 5ms/step - loss: 4.6292 - mean_squared_error: 55.0586 - val_loss: 5.4406 - val_mean_squared_error: 59.1818\n",
            "Epoch 79/100\n",
            "13/13 [==============================] - 0s 5ms/step - loss: 4.6047 - mean_squared_error: 57.3213 - val_loss: 5.4199 - val_mean_squared_error: 58.7392\n",
            "Epoch 80/100\n",
            "13/13 [==============================] - 0s 5ms/step - loss: 4.5921 - mean_squared_error: 56.0028 - val_loss: 5.4064 - val_mean_squared_error: 58.4854\n",
            "Epoch 81/100\n",
            "13/13 [==============================] - 0s 5ms/step - loss: 4.5801 - mean_squared_error: 55.6304 - val_loss: 5.3652 - val_mean_squared_error: 57.5030\n",
            "Epoch 82/100\n",
            "13/13 [==============================] - 0s 5ms/step - loss: 4.6256 - mean_squared_error: 57.5133 - val_loss: 5.4021 - val_mean_squared_error: 58.5029\n",
            "Epoch 83/100\n",
            "13/13 [==============================] - 0s 5ms/step - loss: 4.6022 - mean_squared_error: 54.4644 - val_loss: 5.3971 - val_mean_squared_error: 58.4249\n",
            "Epoch 84/100\n",
            "13/13 [==============================] - 0s 5ms/step - loss: 4.5771 - mean_squared_error: 56.9490 - val_loss: 5.4098 - val_mean_squared_error: 58.7685\n",
            "Epoch 85/100\n",
            "13/13 [==============================] - 0s 5ms/step - loss: 4.5613 - mean_squared_error: 55.0948 - val_loss: 5.3712 - val_mean_squared_error: 57.8587\n",
            "Epoch 86/100\n",
            "13/13 [==============================] - 0s 4ms/step - loss: 4.5542 - mean_squared_error: 55.5997 - val_loss: 5.3778 - val_mean_squared_error: 58.0612\n",
            "Epoch 87/100\n",
            "13/13 [==============================] - 0s 5ms/step - loss: 4.5467 - mean_squared_error: 54.8994 - val_loss: 5.3249 - val_mean_squared_error: 56.7749\n",
            "Epoch 88/100\n",
            "13/13 [==============================] - 0s 4ms/step - loss: 4.5677 - mean_squared_error: 55.6607 - val_loss: 5.3139 - val_mean_squared_error: 56.5389\n",
            "Epoch 89/100\n",
            "13/13 [==============================] - 0s 5ms/step - loss: 4.5504 - mean_squared_error: 53.3959 - val_loss: 5.3354 - val_mean_squared_error: 57.1870\n",
            "Epoch 90/100\n",
            "13/13 [==============================] - 0s 5ms/step - loss: 4.5432 - mean_squared_error: 55.4995 - val_loss: 5.3236 - val_mean_squared_error: 56.9796\n",
            "Epoch 91/100\n",
            "13/13 [==============================] - 0s 5ms/step - loss: 4.5204 - mean_squared_error: 54.6557 - val_loss: 5.2840 - val_mean_squared_error: 55.9391\n",
            "Epoch 92/100\n",
            "13/13 [==============================] - 0s 4ms/step - loss: 4.5126 - mean_squared_error: 54.6913 - val_loss: 5.3398 - val_mean_squared_error: 57.4462\n",
            "Epoch 93/100\n",
            "13/13 [==============================] - 0s 5ms/step - loss: 4.5027 - mean_squared_error: 54.0361 - val_loss: 5.3175 - val_mean_squared_error: 56.9924\n",
            "Epoch 94/100\n",
            "13/13 [==============================] - 0s 4ms/step - loss: 4.5361 - mean_squared_error: 54.5190 - val_loss: 5.2595 - val_mean_squared_error: 55.5123\n",
            "Epoch 95/100\n",
            "13/13 [==============================] - 0s 4ms/step - loss: 4.5450 - mean_squared_error: 56.4061 - val_loss: 5.3648 - val_mean_squared_error: 58.1076\n",
            "Epoch 96/100\n",
            "13/13 [==============================] - 0s 4ms/step - loss: 4.4824 - mean_squared_error: 53.7876 - val_loss: 5.2601 - val_mean_squared_error: 55.7238\n",
            "Epoch 97/100\n",
            "13/13 [==============================] - 0s 5ms/step - loss: 4.4860 - mean_squared_error: 53.3977 - val_loss: 5.3624 - val_mean_squared_error: 58.0994\n",
            "Epoch 98/100\n",
            "13/13 [==============================] - 0s 4ms/step - loss: 4.4943 - mean_squared_error: 54.0999 - val_loss: 5.2315 - val_mean_squared_error: 55.0735\n",
            "Epoch 99/100\n",
            "13/13 [==============================] - 0s 5ms/step - loss: 4.4551 - mean_squared_error: 53.0202 - val_loss: 5.3191 - val_mean_squared_error: 57.2617\n",
            "Epoch 100/100\n",
            "13/13 [==============================] - 0s 5ms/step - loss: 4.4935 - mean_squared_error: 55.1921 - val_loss: 5.1743 - val_mean_squared_error: 53.5702\n"
          ],
          "name": "stdout"
        }
      ]
    },
    {
      "cell_type": "code",
      "metadata": {
        "id": "UT2h7Lp3eK_n",
        "colab_type": "code",
        "colab": {
          "base_uri": "https://localhost:8080/",
          "height": 295
        },
        "outputId": "d89a23d0-a05f-42fd-d5ad-30d22cec4eab"
      },
      "source": [
        "import matplotlib.pyplot as plt\n",
        "\n",
        "plt.plot(result.history['loss'])\n",
        "plt.plot(result.history['val_loss'])\n",
        "\n",
        "plt.title('Model Loss ')\n",
        "plt.ylabel('Loss')\n",
        "plt.xlabel('Epoch')\n",
        "plt.legend(['train', 'test'], loc='upper right')\n",
        "plt.show();"
      ],
      "execution_count": 10,
      "outputs": [
        {
          "output_type": "display_data",
          "data": {
            "image/png": "[encoded data removed]",
            "text/plain": [
              "<Figure size 432x288 with 1 Axes>"
            ]
          },
          "metadata": {
            "tags": [],
            "needs_background": "light"
          }
        }
      ]
    },
    {
      "cell_type": "markdown",
      "metadata": {
        "colab_type": "text",
        "id": "SfcFnOONyuNm"
      },
      "source": [
        "## Use the Keras Library to build an image recognition network using the Fashion-MNIST dataset (also comes with keras)\n",
        "\n",
        "- Load and preprocess the image data similar to how we preprocessed the MNIST data in class.\n",
        "- Make sure to one-hot encode your category labels\n",
        "- The number of nodes in your output layer should equal the number of classes you want to predict for Fashion-MNIST.\n",
        "- Try different hyperparameters. What is the highest accuracy that you are able to achieve.\n",
        "- Use the history object that is returned from model.fit to make graphs of the model's loss or train/validation accuracies by epoch. \n",
        "- Remember that neural networks fall prey to randomness so you may need to run your model multiple times (or use Cross Validation) in order to tell if a change to a hyperparameter is truly producing better results."
      ]
    },
    {
      "cell_type": "code",
      "metadata": {
        "colab_type": "code",
        "id": "szi6-IpuzaH1",
        "colab": {}
      },
      "source": [
        "##### Your Code Here #####\n",
        "from tensorflow.keras.datasets import fashion_mnist"
      ],
      "execution_count": 0,
      "outputs": []
    },
    {
      "cell_type": "code",
      "metadata": {
        "id": "FjaZKIy_WfGD",
        "colab_type": "code",
        "colab": {}
      },
      "source": [
        ""
      ],
      "execution_count": 0,
      "outputs": []
    },
    {
      "cell_type": "markdown",
      "metadata": {
        "colab_type": "text",
        "id": "zv_3xNMjzdLI"
      },
      "source": [
        "## Stretch Goals:\n",
        "\n",
        "- Use Hyperparameter Tuning to make the accuracy of your models as high as possible. (error as low as possible)\n",
        "- Use Cross Validation techniques to get more consistent results with your model.\n",
        "- Use GridSearchCV to try different combinations of hyperparameters. \n",
        "- Start looking into other types of Keras layers for CNNs and RNNs maybe try and build a CNN model for fashion-MNIST to see how the results compare."
      ]
    }
  ]
}